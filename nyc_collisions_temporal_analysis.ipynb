{
 "cells": [
  {
   "cell_type": "code",
   "execution_count": 1,
   "id": "3b2cc496-ddde-4123-8829-08d9c1c80d28",
   "metadata": {},
   "outputs": [
    {
     "name": "stdout",
     "output_type": "stream",
     "text": [
      "Starting Spark application\n"
     ]
    },
    {
     "data": {
      "text/html": [
       "<table>\n",
       "<tr><th>ID</th><th>YARN Application ID</th><th>Kind</th><th>State</th><th>Spark UI</th><th>Driver log</th><th>User</th><th>Current session?</th></tr><tr><td>6</td><td>application_1731795914375_0008</td><td>pyspark</td><td>idle</td><td><a target=\"_blank\" href=\"http://ip-172-31-66-98.ec2.internal:20888/proxy/application_1731795914375_0008/\">Link</a></td><td><a target=\"_blank\" href=\"http://ip-172-31-64-10.ec2.internal:8042/node/containerlogs/container_1731795914375_0008_01_000001/livy\">Link</a></td><td>None</td><td>✔</td></tr></table>"
      ],
      "text/plain": [
       "<IPython.core.display.HTML object>"
      ]
     },
     "metadata": {},
     "output_type": "display_data"
    },
    {
     "data": {
      "application/vnd.jupyter.widget-view+json": {
       "model_id": "",
       "version_major": 2,
       "version_minor": 0
      },
      "text/plain": [
       "FloatProgress(value=0.0, bar_style='info', description='Progress:', layout=Layout(height='25px', width='50%'),…"
      ]
     },
     "metadata": {},
     "output_type": "display_data"
    },
    {
     "name": "stdout",
     "output_type": "stream",
     "text": [
      "SparkSession available as 'spark'.\n"
     ]
    },
    {
     "data": {
      "application/vnd.jupyter.widget-view+json": {
       "model_id": "",
       "version_major": 2,
       "version_minor": 0
      },
      "text/plain": [
       "FloatProgress(value=0.0, bar_style='info', description='Progress:', layout=Layout(height='25px', width='50%'),…"
      ]
     },
     "metadata": {},
     "output_type": "display_data"
    }
   ],
   "source": [
    "# import findspark\n",
    "# findspark.init(\"/home/exouser/nyc_collisions/spark-3.5.3-bin-hadoop3/\")\n",
    "\n",
    "import pyspark\n",
    "# from pyspark.sql import SparkSession\n",
    "from pyspark.sql.functions import col, to_timestamp, to_date, concat_ws, hour, count, desc, sum, month, year, dayofweek, expr"
   ]
  },
  {
   "cell_type": "code",
   "execution_count": null,
   "id": "38c90bd7-399d-43c8-9cbc-17223ab1886c",
   "metadata": {},
   "outputs": [],
   "source": []
  },
  {
   "cell_type": "code",
   "execution_count": 2,
   "id": "493cc5c9-5b35-43b3-9843-ae5e0a54aba5",
   "metadata": {},
   "outputs": [
    {
     "data": {
      "application/vnd.jupyter.widget-view+json": {
       "model_id": "",
       "version_major": 2,
       "version_minor": 0
      },
      "text/plain": [
       "FloatProgress(value=0.0, bar_style='info', description='Progress:', layout=Layout(height='25px', width='50%'),…"
      ]
     },
     "metadata": {},
     "output_type": "display_data"
    }
   ],
   "source": [
    "# spark = SparkSession.builder.appName(\"crash analysis\").getOrCreate()"
   ]
  },
  {
   "cell_type": "code",
   "execution_count": 3,
   "id": "27b7c566-b9a7-4da2-8391-2e8ee76cc9e4",
   "metadata": {},
   "outputs": [
    {
     "data": {
      "application/vnd.jupyter.widget-view+json": {
       "model_id": "",
       "version_major": 2,
       "version_minor": 0
      },
      "text/plain": [
       "FloatProgress(value=0.0, bar_style='info', description='Progress:', layout=Layout(height='25px', width='50%'),…"
      ]
     },
     "metadata": {},
     "output_type": "display_data"
    }
   ],
   "source": [
    "data = spark.read.csv(\"Motor_Vehicle_Collisions_-_Crashes_20241014.csv\", header=True, inferSchema=True)"
   ]
  },
  {
   "cell_type": "code",
   "execution_count": 4,
   "id": "2723288a-cf8a-4434-b15e-fa6060b9ea69",
   "metadata": {},
   "outputs": [
    {
     "data": {
      "application/vnd.jupyter.widget-view+json": {
       "model_id": "",
       "version_major": 2,
       "version_minor": 0
      },
      "text/plain": [
       "FloatProgress(value=0.0, bar_style='info', description='Progress:', layout=Layout(height='25px', width='50%'),…"
      ]
     },
     "metadata": {},
     "output_type": "display_data"
    },
    {
     "name": "stdout",
     "output_type": "stream",
     "text": [
      "['CRASH DATE', 'CRASH TIME', 'BOROUGH', 'ZIP CODE', 'LATITUDE', 'LONGITUDE', 'LOCATION', 'ON STREET NAME', 'CROSS STREET NAME', 'OFF STREET NAME', 'NUMBER OF PERSONS INJURED', 'NUMBER OF PERSONS KILLED', 'NUMBER OF PEDESTRIANS INJURED', 'NUMBER OF PEDESTRIANS KILLED', 'NUMBER OF CYCLIST INJURED', 'NUMBER OF CYCLIST KILLED', 'NUMBER OF MOTORIST INJURED', 'NUMBER OF MOTORIST KILLED', 'CONTRIBUTING FACTOR VEHICLE 1', 'CONTRIBUTING FACTOR VEHICLE 2', 'CONTRIBUTING FACTOR VEHICLE 3', 'CONTRIBUTING FACTOR VEHICLE 4', 'CONTRIBUTING FACTOR VEHICLE 5', 'COLLISION_ID', 'VEHICLE TYPE CODE 1', 'VEHICLE TYPE CODE 2', 'VEHICLE TYPE CODE 3', 'VEHICLE TYPE CODE 4', 'VEHICLE TYPE CODE 5']"
     ]
    }
   ],
   "source": [
    "data.columns"
   ]
  },
  {
   "cell_type": "code",
   "execution_count": null,
   "id": "afb0e1d7-f890-47d1-9b58-5dba14f5f43d",
   "metadata": {},
   "outputs": [],
   "source": []
  },
  {
   "cell_type": "markdown",
   "id": "eb48bb8d-cc2a-4c5d-a3e8-4b0eb19eaec0",
   "metadata": {},
   "source": [
    "# Data Cleaning"
   ]
  },
  {
   "cell_type": "markdown",
   "id": "1226e141-3cd1-4439-bd60-de8fc2560652",
   "metadata": {},
   "source": [
    "### - Drop Duplicates"
   ]
  },
  {
   "cell_type": "code",
   "execution_count": 5,
   "id": "98a2d6cf-d5dd-4bfb-b9a5-6b38abe25eff",
   "metadata": {},
   "outputs": [
    {
     "data": {
      "application/vnd.jupyter.widget-view+json": {
       "model_id": "",
       "version_major": 2,
       "version_minor": 0
      },
      "text/plain": [
       "FloatProgress(value=0.0, bar_style='info', description='Progress:', layout=Layout(height='25px', width='50%'),…"
      ]
     },
     "metadata": {},
     "output_type": "display_data"
    }
   ],
   "source": [
    "unique_df = data.distinct()"
   ]
  },
  {
   "cell_type": "code",
   "execution_count": 6,
   "id": "5218889e-a77b-444b-b346-6295db02d2c1",
   "metadata": {},
   "outputs": [
    {
     "data": {
      "application/vnd.jupyter.widget-view+json": {
       "model_id": "",
       "version_major": 2,
       "version_minor": 0
      },
      "text/plain": [
       "FloatProgress(value=0.0, bar_style='info', description='Progress:', layout=Layout(height='25px', width='50%'),…"
      ]
     },
     "metadata": {},
     "output_type": "display_data"
    },
    {
     "name": "stdout",
     "output_type": "stream",
     "text": [
      "+----------+----------+-------+--------+--------+---------+--------+--------------+-----------------+---------------+-------------------------+------------------------+-----------------------------+----------------------------+-------------------------+------------------------+--------------------------+-------------------------+-----------------------------+-----------------------------+-----------------------------+-----------------------------+-----------------------------+------------+-------------------+-------------------+-------------------+-------------------+-------------------+\n",
      "|CRASH DATE|CRASH TIME|BOROUGH|ZIP CODE|LATITUDE|LONGITUDE|LOCATION|ON STREET NAME|CROSS STREET NAME|OFF STREET NAME|NUMBER OF PERSONS INJURED|NUMBER OF PERSONS KILLED|NUMBER OF PEDESTRIANS INJURED|NUMBER OF PEDESTRIANS KILLED|NUMBER OF CYCLIST INJURED|NUMBER OF CYCLIST KILLED|NUMBER OF MOTORIST INJURED|NUMBER OF MOTORIST KILLED|CONTRIBUTING FACTOR VEHICLE 1|CONTRIBUTING FACTOR VEHICLE 2|CONTRIBUTING FACTOR VEHICLE 3|CONTRIBUTING FACTOR VEHICLE 4|CONTRIBUTING FACTOR VEHICLE 5|COLLISION_ID|VEHICLE TYPE CODE 1|VEHICLE TYPE CODE 2|VEHICLE TYPE CODE 3|VEHICLE TYPE CODE 4|VEHICLE TYPE CODE 5|\n",
      "+----------+----------+-------+--------+--------+---------+--------+--------------+-----------------+---------------+-------------------------+------------------------+-----------------------------+----------------------------+-------------------------+------------------------+--------------------------+-------------------------+-----------------------------+-----------------------------+-----------------------------+-----------------------------+-----------------------------+------------+-------------------+-------------------+-------------------+-------------------+-------------------+\n",
      "+----------+----------+-------+--------+--------+---------+--------+--------------+-----------------+---------------+-------------------------+------------------------+-----------------------------+----------------------------+-------------------------+------------------------+--------------------------+-------------------------+-----------------------------+-----------------------------+-----------------------------+-----------------------------+-----------------------------+------------+-------------------+-------------------+-------------------+-------------------+-------------------+"
     ]
    }
   ],
   "source": [
    "data.exceptAll(unique_df).show()"
   ]
  },
  {
   "cell_type": "code",
   "execution_count": 7,
   "id": "a1887627-c46e-4071-9fd8-65f906ce0511",
   "metadata": {},
   "outputs": [
    {
     "data": {
      "application/vnd.jupyter.widget-view+json": {
       "model_id": "",
       "version_major": 2,
       "version_minor": 0
      },
      "text/plain": [
       "FloatProgress(value=0.0, bar_style='info', description='Progress:', layout=Layout(height='25px', width='50%'),…"
      ]
     },
     "metadata": {},
     "output_type": "display_data"
    },
    {
     "name": "stdout",
     "output_type": "stream",
     "text": [
      "+------------+-----+\n",
      "|COLLISION_ID|count|\n",
      "+------------+-----+\n",
      "|        NULL|    2|\n",
      "+------------+-----+"
     ]
    }
   ],
   "source": [
    "data.groupby(\"COLLISION_ID\").count().filter(\"count > 1\").show()"
   ]
  },
  {
   "cell_type": "code",
   "execution_count": 8,
   "id": "604fde1a-3cb3-4927-93ab-2a3eb76ec305",
   "metadata": {},
   "outputs": [
    {
     "data": {
      "application/vnd.jupyter.widget-view+json": {
       "model_id": "",
       "version_major": 2,
       "version_minor": 0
      },
      "text/plain": [
       "FloatProgress(value=0.0, bar_style='info', description='Progress:', layout=Layout(height='25px', width='50%'),…"
      ]
     },
     "metadata": {},
     "output_type": "display_data"
    },
    {
     "name": "stdout",
     "output_type": "stream",
     "text": [
      "+---------------+----------+-------+--------+----------+-----------+--------------------+--------------+-----------------+--------------------+-------------------------+------------------------+-----------------------------+----------------------------+-------------------------+------------------------+--------------------------+-------------------------+-----------------------------+-----------------------------+-----------------------------+-----------------------------+-----------------------------+------------+-------------------+-------------------+-------------------+-------------------+-------------------+\n",
      "|     CRASH DATE|CRASH TIME|BOROUGH|ZIP CODE|  LATITUDE|  LONGITUDE|            LOCATION|ON STREET NAME|CROSS STREET NAME|     OFF STREET NAME|NUMBER OF PERSONS INJURED|NUMBER OF PERSONS KILLED|NUMBER OF PEDESTRIANS INJURED|NUMBER OF PEDESTRIANS KILLED|NUMBER OF CYCLIST INJURED|NUMBER OF CYCLIST KILLED|NUMBER OF MOTORIST INJURED|NUMBER OF MOTORIST KILLED|CONTRIBUTING FACTOR VEHICLE 1|CONTRIBUTING FACTOR VEHICLE 2|CONTRIBUTING FACTOR VEHICLE 3|CONTRIBUTING FACTOR VEHICLE 4|CONTRIBUTING FACTOR VEHICLE 5|COLLISION_ID|VEHICLE TYPE CODE 1|VEHICLE TYPE CODE 2|VEHICLE TYPE CODE 3|VEHICLE TYPE CODE 4|VEHICLE TYPE CODE 5|\n",
      "+---------------+----------+-------+--------+----------+-----------+--------------------+--------------+-----------------+--------------------+-------------------------+------------------------+-----------------------------+----------------------------+-------------------------+------------------------+--------------------------+-------------------------+-----------------------------+-----------------------------+-----------------------------+-----------------------------+-----------------------------+------------+-------------------+-------------------+-------------------+-------------------+-------------------+\n",
      "|     09/06/2015|     14:15|   NULL|    NULL|40.6722269|-74.0110059|(40.6722269, -74....|          NULL|             NULL|R/O 1 BEARD ST. (...|                     NULL|                    NULL|                         NULL|                        NULL|                     NULL|                    NULL|                      NULL|                     NULL|                         NULL|                         NULL|                         NULL|                         NULL|                         NULL|        NULL|               NULL|               NULL|               NULL|               NULL|               NULL|\n",
      "| PARKING LOT).\"|         0|      0|       0|       0.0|        0.0|                   0|             0|                0|         Unspecified|              Unspecified|                    NULL|                         NULL|                        NULL|                  3291249|       PASSENGER VEHICLE|         PASSENGER VEHICLE|                     NULL|                         NULL|                         NULL|                         NULL|                         NULL|                         NULL|        NULL|               NULL|               NULL|               NULL|               NULL|               NULL|\n",
      "+---------------+----------+-------+--------+----------+-----------+--------------------+--------------+-----------------+--------------------+-------------------------+------------------------+-----------------------------+----------------------------+-------------------------+------------------------+--------------------------+-------------------------+-----------------------------+-----------------------------+-----------------------------+-----------------------------+-----------------------------+------------+-------------------+-------------------+-------------------+-------------------+-------------------+"
     ]
    }
   ],
   "source": [
    "data.filter(data[\"COLLISION_ID\"].isNull()).show()"
   ]
  },
  {
   "cell_type": "code",
   "execution_count": 9,
   "id": "43e2de33-0612-431d-b5e4-77c5ecd05068",
   "metadata": {},
   "outputs": [
    {
     "data": {
      "application/vnd.jupyter.widget-view+json": {
       "model_id": "",
       "version_major": 2,
       "version_minor": 0
      },
      "text/plain": [
       "FloatProgress(value=0.0, bar_style='info', description='Progress:', layout=Layout(height='25px', width='50%'),…"
      ]
     },
     "metadata": {},
     "output_type": "display_data"
    }
   ],
   "source": [
    "data = data.dropna(subset=[\"COLLISION_ID\"])"
   ]
  },
  {
   "cell_type": "code",
   "execution_count": null,
   "id": "dbc7a0ad-3be5-4988-a188-ea35b9bbc8c2",
   "metadata": {},
   "outputs": [],
   "source": []
  },
  {
   "cell_type": "code",
   "execution_count": 10,
   "id": "f57f52af-9a3e-420c-a49e-4605c8462237",
   "metadata": {},
   "outputs": [
    {
     "data": {
      "application/vnd.jupyter.widget-view+json": {
       "model_id": "",
       "version_major": 2,
       "version_minor": 0
      },
      "text/plain": [
       "FloatProgress(value=0.0, bar_style='info', description='Progress:', layout=Layout(height='25px', width='50%'),…"
      ]
     },
     "metadata": {},
     "output_type": "display_data"
    },
    {
     "name": "stdout",
     "output_type": "stream",
     "text": [
      "+----------+----------+-------+--------+--------+---------+--------+--------------+-----------------+---------------+-------------------------+------------------------+-----------------------------+----------------------------+-------------------------+------------------------+--------------------------+-------------------------+-----------------------------+-----------------------------+-----------------------------+-----------------------------+-----------------------------+------------+-------------------+-------------------+-------------------+-------------------+-------------------+\n",
      "|CRASH DATE|CRASH TIME|BOROUGH|ZIP CODE|LATITUDE|LONGITUDE|LOCATION|ON STREET NAME|CROSS STREET NAME|OFF STREET NAME|NUMBER OF PERSONS INJURED|NUMBER OF PERSONS KILLED|NUMBER OF PEDESTRIANS INJURED|NUMBER OF PEDESTRIANS KILLED|NUMBER OF CYCLIST INJURED|NUMBER OF CYCLIST KILLED|NUMBER OF MOTORIST INJURED|NUMBER OF MOTORIST KILLED|CONTRIBUTING FACTOR VEHICLE 1|CONTRIBUTING FACTOR VEHICLE 2|CONTRIBUTING FACTOR VEHICLE 3|CONTRIBUTING FACTOR VEHICLE 4|CONTRIBUTING FACTOR VEHICLE 5|COLLISION_ID|VEHICLE TYPE CODE 1|VEHICLE TYPE CODE 2|VEHICLE TYPE CODE 3|VEHICLE TYPE CODE 4|VEHICLE TYPE CODE 5|\n",
      "+----------+----------+-------+--------+--------+---------+--------+--------------+-----------------+---------------+-------------------------+------------------------+-----------------------------+----------------------------+-------------------------+------------------------+--------------------------+-------------------------+-----------------------------+-----------------------------+-----------------------------+-----------------------------+-----------------------------+------------+-------------------+-------------------+-------------------+-------------------+-------------------+\n",
      "+----------+----------+-------+--------+--------+---------+--------+--------------+-----------------+---------------+-------------------------+------------------------+-----------------------------+----------------------------+-------------------------+------------------------+--------------------------+-------------------------+-----------------------------+-----------------------------+-----------------------------+-----------------------------+-----------------------------+------------+-------------------+-------------------+-------------------+-------------------+-------------------+"
     ]
    }
   ],
   "source": [
    "data.filter(data[\"CRASH DATE\"].isNull()).show()"
   ]
  },
  {
   "cell_type": "code",
   "execution_count": 11,
   "id": "77d7fbb8-cc0a-44ea-8e69-4bdbf9801417",
   "metadata": {},
   "outputs": [
    {
     "data": {
      "application/vnd.jupyter.widget-view+json": {
       "model_id": "",
       "version_major": 2,
       "version_minor": 0
      },
      "text/plain": [
       "FloatProgress(value=0.0, bar_style='info', description='Progress:', layout=Layout(height='25px', width='50%'),…"
      ]
     },
     "metadata": {},
     "output_type": "display_data"
    },
    {
     "name": "stdout",
     "output_type": "stream",
     "text": [
      "+----------+----------+-------+--------+--------+---------+--------+--------------+-----------------+---------------+-------------------------+------------------------+-----------------------------+----------------------------+-------------------------+------------------------+--------------------------+-------------------------+-----------------------------+-----------------------------+-----------------------------+-----------------------------+-----------------------------+------------+-------------------+-------------------+-------------------+-------------------+-------------------+\n",
      "|CRASH DATE|CRASH TIME|BOROUGH|ZIP CODE|LATITUDE|LONGITUDE|LOCATION|ON STREET NAME|CROSS STREET NAME|OFF STREET NAME|NUMBER OF PERSONS INJURED|NUMBER OF PERSONS KILLED|NUMBER OF PEDESTRIANS INJURED|NUMBER OF PEDESTRIANS KILLED|NUMBER OF CYCLIST INJURED|NUMBER OF CYCLIST KILLED|NUMBER OF MOTORIST INJURED|NUMBER OF MOTORIST KILLED|CONTRIBUTING FACTOR VEHICLE 1|CONTRIBUTING FACTOR VEHICLE 2|CONTRIBUTING FACTOR VEHICLE 3|CONTRIBUTING FACTOR VEHICLE 4|CONTRIBUTING FACTOR VEHICLE 5|COLLISION_ID|VEHICLE TYPE CODE 1|VEHICLE TYPE CODE 2|VEHICLE TYPE CODE 3|VEHICLE TYPE CODE 4|VEHICLE TYPE CODE 5|\n",
      "+----------+----------+-------+--------+--------+---------+--------+--------------+-----------------+---------------+-------------------------+------------------------+-----------------------------+----------------------------+-------------------------+------------------------+--------------------------+-------------------------+-----------------------------+-----------------------------+-----------------------------+-----------------------------+-----------------------------+------------+-------------------+-------------------+-------------------+-------------------+-------------------+\n",
      "+----------+----------+-------+--------+--------+---------+--------+--------------+-----------------+---------------+-------------------------+------------------------+-----------------------------+----------------------------+-------------------------+------------------------+--------------------------+-------------------------+-----------------------------+-----------------------------+-----------------------------+-----------------------------+-----------------------------+------------+-------------------+-------------------+-------------------+-------------------+-------------------+"
     ]
    }
   ],
   "source": [
    "data.filter(data[\"CRASH TIME\"].isNull()).show()"
   ]
  },
  {
   "cell_type": "markdown",
   "id": "32504f10-5c5c-4008-8478-a1a0b385b3e7",
   "metadata": {},
   "source": [
    "### - Convert Data Types"
   ]
  },
  {
   "cell_type": "code",
   "execution_count": 12,
   "id": "7aafa684-1118-446a-b7b6-aa635e237afd",
   "metadata": {},
   "outputs": [
    {
     "data": {
      "application/vnd.jupyter.widget-view+json": {
       "model_id": "",
       "version_major": 2,
       "version_minor": 0
      },
      "text/plain": [
       "FloatProgress(value=0.0, bar_style='info', description='Progress:', layout=Layout(height='25px', width='50%'),…"
      ]
     },
     "metadata": {},
     "output_type": "display_data"
    }
   ],
   "source": [
    "data = data.withColumn(\"NUMBER OF PERSONS INJURED\", col(\"NUMBER OF PERSONS INJURED\").cast(\"int\"))\n",
    "data = data.withColumn(\"NUMBER OF PERSONS KILLED\", col(\"NUMBER OF PERSONS KILLED\").cast(\"int\"))\n",
    "\n",
    "data = data.withColumn(\"NUMBER OF PEDESTRIANS INJURED\", col(\"NUMBER OF PEDESTRIANS INJURED\").cast(\"int\"))\n",
    "data = data.withColumn(\"NUMBER OF PEDESTRIANS KILLED\", col(\"NUMBER OF PEDESTRIANS KILLED\").cast(\"int\"))\n",
    "\n",
    "data = data.withColumn(\"NUMBER OF MOTORIST INJURED\", col(\"NUMBER OF MOTORIST INJURED\").cast(\"int\"))\n",
    "data = data.withColumn(\"NUMBER OF MOTORIST KILLED\", col(\"NUMBER OF MOTORIST KILLED\").cast(\"int\"))\n",
    "\n",
    "data = data.withColumn(\"NUMBER OF CYCLIST INJURED\", col(\"NUMBER OF CYCLIST INJURED\").cast(\"int\"))\n",
    "data = data.withColumn(\"NUMBER OF CYCLIST KILLED\", col(\"NUMBER OF CYCLIST KILLED\").cast(\"int\"))"
   ]
  },
  {
   "cell_type": "code",
   "execution_count": null,
   "id": "3ecdbb1f-ba43-468f-905d-9b1e2c8f8e58",
   "metadata": {},
   "outputs": [],
   "source": []
  },
  {
   "cell_type": "code",
   "execution_count": 13,
   "id": "5bc0a2a4-2b55-4d36-941a-9350495777cb",
   "metadata": {},
   "outputs": [
    {
     "data": {
      "application/vnd.jupyter.widget-view+json": {
       "model_id": "",
       "version_major": 2,
       "version_minor": 0
      },
      "text/plain": [
       "FloatProgress(value=0.0, bar_style='info', description='Progress:', layout=Layout(height='25px', width='50%'),…"
      ]
     },
     "metadata": {},
     "output_type": "display_data"
    }
   ],
   "source": [
    "data = data.withColumn(\"CRASH DATE\", to_date(col(\"CRASH DATE\"), \"MM/dd/yyyy\"))\n",
    "data = data.withColumn(\"CRASH TIMESTAMP\", to_timestamp(concat_ws(\" \", col(\"CRASH DATE\"), col(\"CRASH TIME\")), \"yyyy-MM-dd H:mm\"))"
   ]
  },
  {
   "cell_type": "code",
   "execution_count": null,
   "id": "da9f432a-d991-41a0-a3f2-d85d678db383",
   "metadata": {},
   "outputs": [],
   "source": []
  },
  {
   "cell_type": "markdown",
   "id": "c1ee60c2-3b4e-484a-af37-6e481cf054f0",
   "metadata": {},
   "source": [
    "### - Review Data Quality"
   ]
  },
  {
   "cell_type": "code",
   "execution_count": 14,
   "id": "4adcb2df-43c4-473a-8eb7-207e374c2732",
   "metadata": {},
   "outputs": [
    {
     "data": {
      "application/vnd.jupyter.widget-view+json": {
       "model_id": "",
       "version_major": 2,
       "version_minor": 0
      },
      "text/plain": [
       "FloatProgress(value=0.0, bar_style='info', description='Progress:', layout=Layout(height='25px', width='50%'),…"
      ]
     },
     "metadata": {},
     "output_type": "display_data"
    },
    {
     "name": "stdout",
     "output_type": "stream",
     "text": [
      "root\n",
      " |-- CRASH DATE: date (nullable = true)\n",
      " |-- CRASH TIME: string (nullable = true)\n",
      " |-- BOROUGH: string (nullable = true)\n",
      " |-- ZIP CODE: string (nullable = true)\n",
      " |-- LATITUDE: double (nullable = true)\n",
      " |-- LONGITUDE: double (nullable = true)\n",
      " |-- LOCATION: string (nullable = true)\n",
      " |-- ON STREET NAME: string (nullable = true)\n",
      " |-- CROSS STREET NAME: string (nullable = true)\n",
      " |-- OFF STREET NAME: string (nullable = true)\n",
      " |-- NUMBER OF PERSONS INJURED: integer (nullable = true)\n",
      " |-- NUMBER OF PERSONS KILLED: integer (nullable = true)\n",
      " |-- NUMBER OF PEDESTRIANS INJURED: integer (nullable = true)\n",
      " |-- NUMBER OF PEDESTRIANS KILLED: integer (nullable = true)\n",
      " |-- NUMBER OF CYCLIST INJURED: integer (nullable = true)\n",
      " |-- NUMBER OF CYCLIST KILLED: integer (nullable = true)\n",
      " |-- NUMBER OF MOTORIST INJURED: integer (nullable = true)\n",
      " |-- NUMBER OF MOTORIST KILLED: integer (nullable = true)\n",
      " |-- CONTRIBUTING FACTOR VEHICLE 1: string (nullable = true)\n",
      " |-- CONTRIBUTING FACTOR VEHICLE 2: string (nullable = true)\n",
      " |-- CONTRIBUTING FACTOR VEHICLE 3: string (nullable = true)\n",
      " |-- CONTRIBUTING FACTOR VEHICLE 4: string (nullable = true)\n",
      " |-- CONTRIBUTING FACTOR VEHICLE 5: string (nullable = true)\n",
      " |-- COLLISION_ID: integer (nullable = true)\n",
      " |-- VEHICLE TYPE CODE 1: string (nullable = true)\n",
      " |-- VEHICLE TYPE CODE 2: string (nullable = true)\n",
      " |-- VEHICLE TYPE CODE 3: string (nullable = true)\n",
      " |-- VEHICLE TYPE CODE 4: string (nullable = true)\n",
      " |-- VEHICLE TYPE CODE 5: string (nullable = true)\n",
      " |-- CRASH TIMESTAMP: timestamp (nullable = true)"
     ]
    }
   ],
   "source": [
    "data.printSchema()"
   ]
  },
  {
   "cell_type": "code",
   "execution_count": 15,
   "id": "9dddf0c3-4c7c-432c-82bd-7998769fec55",
   "metadata": {},
   "outputs": [
    {
     "data": {
      "application/vnd.jupyter.widget-view+json": {
       "model_id": "",
       "version_major": 2,
       "version_minor": 0
      },
      "text/plain": [
       "FloatProgress(value=0.0, bar_style='info', description='Progress:', layout=Layout(height='25px', width='50%'),…"
      ]
     },
     "metadata": {},
     "output_type": "display_data"
    },
    {
     "name": "stdout",
     "output_type": "stream",
     "text": [
      "+----------+----------+--------+--------+---------+----------+-----------------------+-----------------------+-----------------+-----------------------+-------------------------+------------------------+-----------------------------+----------------------------+-------------------------+------------------------+--------------------------+-------------------------+-----------------------------+-----------------------------+-----------------------------+-----------------------------+-----------------------------+------------+-------------------+-------------------+-------------------+-------------------+-------------------+-------------------+\n",
      "|CRASH DATE|CRASH TIME|BOROUGH |ZIP CODE|LATITUDE |LONGITUDE |LOCATION               |ON STREET NAME         |CROSS STREET NAME|OFF STREET NAME        |NUMBER OF PERSONS INJURED|NUMBER OF PERSONS KILLED|NUMBER OF PEDESTRIANS INJURED|NUMBER OF PEDESTRIANS KILLED|NUMBER OF CYCLIST INJURED|NUMBER OF CYCLIST KILLED|NUMBER OF MOTORIST INJURED|NUMBER OF MOTORIST KILLED|CONTRIBUTING FACTOR VEHICLE 1|CONTRIBUTING FACTOR VEHICLE 2|CONTRIBUTING FACTOR VEHICLE 3|CONTRIBUTING FACTOR VEHICLE 4|CONTRIBUTING FACTOR VEHICLE 5|COLLISION_ID|VEHICLE TYPE CODE 1|VEHICLE TYPE CODE 2|VEHICLE TYPE CODE 3|VEHICLE TYPE CODE 4|VEHICLE TYPE CODE 5|CRASH TIMESTAMP    |\n",
      "+----------+----------+--------+--------+---------+----------+-----------------------+-----------------------+-----------------+-----------------------+-------------------------+------------------------+-----------------------------+----------------------------+-------------------------+------------------------+--------------------------+-------------------------+-----------------------------+-----------------------------+-----------------------------+-----------------------------+-----------------------------+------------+-------------------+-------------------+-------------------+-------------------+-------------------+-------------------+\n",
      "|2021-09-11|2:39      |NULL    |NULL    |NULL     |NULL      |NULL                   |WHITESTONE EXPRESSWAY  |20 AVENUE        |NULL                   |2                        |0                       |0                            |0                           |0                        |0                       |2                         |0                        |Aggressive Driving/Road Rage |Unspecified                  |NULL                         |NULL                         |NULL                         |4455765     |Sedan              |Sedan              |NULL               |NULL               |NULL               |2021-09-11 02:39:00|\n",
      "|2022-03-26|11:45     |NULL    |NULL    |NULL     |NULL      |NULL                   |QUEENSBORO BRIDGE UPPER|NULL             |NULL                   |1                        |0                       |0                            |0                           |0                        |0                       |1                         |0                        |Pavement Slippery            |NULL                         |NULL                         |NULL                         |NULL                         |4513547     |Sedan              |NULL               |NULL               |NULL               |NULL               |2022-03-26 11:45:00|\n",
      "|2022-06-29|6:55      |NULL    |NULL    |NULL     |NULL      |NULL                   |THROGS NECK BRIDGE     |NULL             |NULL                   |0                        |0                       |0                            |0                           |0                        |0                       |0                         |0                        |Following Too Closely        |Unspecified                  |NULL                         |NULL                         |NULL                         |4541903     |Sedan              |Pick-up Truck      |NULL               |NULL               |NULL               |2022-06-29 06:55:00|\n",
      "|2021-09-11|9:35      |BROOKLYN|11208   |40.667202|-73.8665  |(40.667202, -73.8665)  |NULL                   |NULL             |1211      LORING AVENUE|0                        |0                       |0                            |0                           |0                        |0                       |0                         |0                        |Unspecified                  |NULL                         |NULL                         |NULL                         |NULL                         |4456314     |Sedan              |NULL               |NULL               |NULL               |NULL               |2021-09-11 09:35:00|\n",
      "|2021-12-14|8:13      |BROOKLYN|11233   |40.683304|-73.917274|(40.683304, -73.917274)|SARATOGA AVENUE        |DECATUR STREET   |NULL                   |0                        |0                       |0                            |0                           |0                        |0                       |0                         |0                        |NULL                         |NULL                         |NULL                         |NULL                         |NULL                         |4486609     |NULL               |NULL               |NULL               |NULL               |NULL               |2021-12-14 08:13:00|\n",
      "+----------+----------+--------+--------+---------+----------+-----------------------+-----------------------+-----------------+-----------------------+-------------------------+------------------------+-----------------------------+----------------------------+-------------------------+------------------------+--------------------------+-------------------------+-----------------------------+-----------------------------+-----------------------------+-----------------------------+-----------------------------+------------+-------------------+-------------------+-------------------+-------------------+-------------------+-------------------+\n",
      "only showing top 5 rows"
     ]
    }
   ],
   "source": [
    "data.show(5, truncate=False)"
   ]
  },
  {
   "cell_type": "code",
   "execution_count": null,
   "id": "6c4cd6a9-ca7a-439e-842d-371891f2b29f",
   "metadata": {},
   "outputs": [],
   "source": []
  },
  {
   "cell_type": "code",
   "execution_count": null,
   "id": "2f1ce1e3-63e4-448f-980b-d78667649ca7",
   "metadata": {},
   "outputs": [],
   "source": []
  },
  {
   "cell_type": "markdown",
   "id": "3275ee18-3c86-44c5-acf3-393c9500e557",
   "metadata": {},
   "source": [
    "# Temporal Analysis"
   ]
  },
  {
   "cell_type": "markdown",
   "id": "91b67d73-2266-4ed4-a7c9-cd38cfb46a84",
   "metadata": {},
   "source": [
    "### - What time of day has the highest number of collisions?"
   ]
  },
  {
   "cell_type": "code",
   "execution_count": 16,
   "id": "4ee67357-a697-4ca7-8a9c-3a486d2c5b93",
   "metadata": {},
   "outputs": [
    {
     "data": {
      "application/vnd.jupyter.widget-view+json": {
       "model_id": "",
       "version_major": 2,
       "version_minor": 0
      },
      "text/plain": [
       "FloatProgress(value=0.0, bar_style='info', description='Progress:', layout=Layout(height='25px', width='50%'),…"
      ]
     },
     "metadata": {},
     "output_type": "display_data"
    }
   ],
   "source": [
    "hourly_collisions = data \\\n",
    "    .withColumn(\"HOUR\", hour(col(\"CRASH TIMESTAMP\"))) \\\n",
    "    .groupBy(\"HOUR\") \\\n",
    "    .agg(count(\"*\").alias(\"TOTAL COLLISIONS\")) \\\n",
    "    .orderBy(col(\"TOTAL COLLISIONS\").desc())"
   ]
  },
  {
   "cell_type": "code",
   "execution_count": 17,
   "id": "15b383a7-1cb2-44a4-8139-93bdc6e32d5b",
   "metadata": {},
   "outputs": [
    {
     "data": {
      "application/vnd.jupyter.widget-view+json": {
       "model_id": "",
       "version_major": 2,
       "version_minor": 0
      },
      "text/plain": [
       "FloatProgress(value=0.0, bar_style='info', description='Progress:', layout=Layout(height='25px', width='50%'),…"
      ]
     },
     "metadata": {},
     "output_type": "display_data"
    },
    {
     "name": "stdout",
     "output_type": "stream",
     "text": [
      "+----+----------------+\n",
      "|HOUR|TOTAL COLLISIONS|\n",
      "+----+----------------+\n",
      "|  16|          152561|\n",
      "|  17|          149320|\n",
      "|  14|          141107|\n",
      "|  15|          132617|\n",
      "|  18|          131349|\n",
      "|  13|          122138|\n",
      "|   8|          116587|\n",
      "|  12|          116397|\n",
      "|   9|          112203|\n",
      "|  11|          109461|\n",
      "|  19|          108110|\n",
      "|  10|          104834|\n",
      "|  20|           90420|\n",
      "|  21|           77003|\n",
      "|  22|           70224|\n",
      "|   0|           69118|\n",
      "|   7|           65058|\n",
      "|  23|           59047|\n",
      "|   6|           47642|\n",
      "|   1|           37291|\n",
      "+----+----------------+\n",
      "only showing top 20 rows"
     ]
    }
   ],
   "source": [
    "hourly_collisions.show()"
   ]
  },
  {
   "cell_type": "code",
   "execution_count": 18,
   "id": "33e013a2-c74f-4056-a73b-aefa5b289d03",
   "metadata": {},
   "outputs": [
    {
     "data": {
      "application/vnd.jupyter.widget-view+json": {
       "model_id": "",
       "version_major": 2,
       "version_minor": 0
      },
      "text/plain": [
       "FloatProgress(value=0.0, bar_style='info', description='Progress:', layout=Layout(height='25px', width='50%'),…"
      ]
     },
     "metadata": {},
     "output_type": "display_data"
    },
    {
     "name": "stderr",
     "output_type": "stream",
     "text": [
      "An error was encountered:\n",
      "Pandas >= 1.0.5 must be installed; however, it was not found.\n",
      "Traceback (most recent call last):\n",
      "  File \"/mnt/yarn/usercache/livy/appcache/application_1731795914375_0008/container_1731795914375_0008_01_000001/pyspark.zip/pyspark/sql/pandas/conversion.py\", line 86, in toPandas\n",
      "    require_minimum_pandas_version()\n",
      "  File \"/mnt/yarn/usercache/livy/appcache/application_1731795914375_0008/container_1731795914375_0008_01_000001/pyspark.zip/pyspark/sql/pandas/utils.py\", line 34, in require_minimum_pandas_version\n",
      "    raise ImportError(\n",
      "ImportError: Pandas >= 1.0.5 must be installed; however, it was not found.\n",
      "\n"
     ]
    }
   ],
   "source": [
    "# Example: Export results for visualization in Pandas\n",
    "hourly_collisions.toPandas().plot(kind='bar', x='HOUR', y='TOTAL COLLISIONS')"
   ]
  },
  {
   "cell_type": "markdown",
   "id": "d7998e96-9cd3-4fc5-97c2-2814e080963b",
   "metadata": {},
   "source": [
    "### - Are there seasonal trends in motor vehicle collisions?"
   ]
  },
  {
   "cell_type": "code",
   "execution_count": 19,
   "id": "2c480763-1b6e-41e9-ba44-269d061e8fca",
   "metadata": {},
   "outputs": [
    {
     "data": {
      "application/vnd.jupyter.widget-view+json": {
       "model_id": "",
       "version_major": 2,
       "version_minor": 0
      },
      "text/plain": [
       "FloatProgress(value=0.0, bar_style='info', description='Progress:', layout=Layout(height='25px', width='50%'),…"
      ]
     },
     "metadata": {},
     "output_type": "display_data"
    }
   ],
   "source": [
    "monthly_collisions = data \\\n",
    "    .withColumn(\"MONTH\", month(col(\"CRASH DATE\"))) \\\n",
    "    .groupBy(\"MONTH\") \\\n",
    "    .agg(count(\"*\").alias(\"TOTAL COLLISIONS\")) \\\n",
    "    .orderBy(\"MONTH\")"
   ]
  },
  {
   "cell_type": "code",
   "execution_count": 20,
   "id": "5cce02ba-a40e-4efe-923b-4024b9acb742",
   "metadata": {},
   "outputs": [
    {
     "data": {
      "application/vnd.jupyter.widget-view+json": {
       "model_id": "",
       "version_major": 2,
       "version_minor": 0
      },
      "text/plain": [
       "FloatProgress(value=0.0, bar_style='info', description='Progress:', layout=Layout(height='25px', width='50%'),…"
      ]
     },
     "metadata": {},
     "output_type": "display_data"
    },
    {
     "name": "stdout",
     "output_type": "stream",
     "text": [
      "+-----+----------------+\n",
      "|MONTH|TOTAL COLLISIONS|\n",
      "+-----+----------------+\n",
      "|    1|          164124|\n",
      "|    2|          151515|\n",
      "|    3|          169715|\n",
      "|    4|          157397|\n",
      "|    5|          180765|\n",
      "|    6|          181722|\n",
      "|    7|          192385|\n",
      "|    8|          189918|\n",
      "|    9|          190111|\n",
      "|   10|          190155|\n",
      "|   11|          178551|\n",
      "|   12|          179404|\n",
      "+-----+----------------+"
     ]
    }
   ],
   "source": [
    "monthly_collisions.show()"
   ]
  },
  {
   "cell_type": "markdown",
   "id": "51bc4fb0-d229-4ede-9e40-d5c610b4f437",
   "metadata": {},
   "source": [
    "### - How do collision rates change over the years?"
   ]
  },
  {
   "cell_type": "code",
   "execution_count": 21,
   "id": "708c86f8-65a5-47e2-b2be-4cb8dbe6364d",
   "metadata": {},
   "outputs": [
    {
     "data": {
      "application/vnd.jupyter.widget-view+json": {
       "model_id": "",
       "version_major": 2,
       "version_minor": 0
      },
      "text/plain": [
       "FloatProgress(value=0.0, bar_style='info', description='Progress:', layout=Layout(height='25px', width='50%'),…"
      ]
     },
     "metadata": {},
     "output_type": "display_data"
    }
   ],
   "source": [
    "yearly_collisions = data \\\n",
    "    .withColumn(\"YEAR\", year(col(\"CRASH DATE\"))) \\\n",
    "    .groupBy(\"YEAR\") \\\n",
    "    .agg(count(\"*\").alias(\"TOTAL COLLISIONS\")) \\\n",
    "    .orderBy(\"YEAR\")"
   ]
  },
  {
   "cell_type": "code",
   "execution_count": 22,
   "id": "eede9d1e-9240-4652-91de-918fab816aac",
   "metadata": {},
   "outputs": [
    {
     "data": {
      "application/vnd.jupyter.widget-view+json": {
       "model_id": "",
       "version_major": 2,
       "version_minor": 0
      },
      "text/plain": [
       "FloatProgress(value=0.0, bar_style='info', description='Progress:', layout=Layout(height='25px', width='50%'),…"
      ]
     },
     "metadata": {},
     "output_type": "display_data"
    },
    {
     "name": "stdout",
     "output_type": "stream",
     "text": [
      "+----+----------------+\n",
      "|YEAR|TOTAL COLLISIONS|\n",
      "+----+----------------+\n",
      "|2012|          100545|\n",
      "|2013|          203742|\n",
      "|2014|          206039|\n",
      "|2015|          217693|\n",
      "|2016|          229831|\n",
      "|2017|          231007|\n",
      "|2018|          231564|\n",
      "|2019|          211486|\n",
      "|2020|          112916|\n",
      "|2021|          110555|\n",
      "|2022|          103886|\n",
      "|2023|           96599|\n",
      "|2024|           69899|\n",
      "+----+----------------+"
     ]
    }
   ],
   "source": [
    "yearly_collisions.show()"
   ]
  },
  {
   "cell_type": "markdown",
   "id": "5700bae1-89cd-4d57-a519-d70293ec0ad1",
   "metadata": {},
   "source": [
    "### - What are the patterns in accidents on weekdays vs. weekends?"
   ]
  },
  {
   "cell_type": "code",
   "execution_count": 23,
   "id": "daf4393a-1b39-474d-b2d4-a10c2ae26e0b",
   "metadata": {},
   "outputs": [
    {
     "data": {
      "application/vnd.jupyter.widget-view+json": {
       "model_id": "",
       "version_major": 2,
       "version_minor": 0
      },
      "text/plain": [
       "FloatProgress(value=0.0, bar_style='info', description='Progress:', layout=Layout(height='25px', width='50%'),…"
      ]
     },
     "metadata": {},
     "output_type": "display_data"
    }
   ],
   "source": [
    "weekday_collisions = data \\\n",
    "    .withColumn(\"DAY_OF_WEEK\", dayofweek(col(\"CRASH DATE\"))) \\\n",
    "    .groupBy(\"DAY_OF_WEEK\") \\\n",
    "    .agg(count(\"*\").alias(\"TOTAL COLLISIONS\")) \\\n",
    "    .orderBy(\"DAY_OF_WEEK\")"
   ]
  },
  {
   "cell_type": "code",
   "execution_count": 24,
   "id": "a2062e7e-8977-4910-9070-1afb713b27b4",
   "metadata": {},
   "outputs": [
    {
     "data": {
      "application/vnd.jupyter.widget-view+json": {
       "model_id": "",
       "version_major": 2,
       "version_minor": 0
      },
      "text/plain": [
       "FloatProgress(value=0.0, bar_style='info', description='Progress:', layout=Layout(height='25px', width='50%'),…"
      ]
     },
     "metadata": {},
     "output_type": "display_data"
    },
    {
     "name": "stdout",
     "output_type": "stream",
     "text": [
      "+-----------+----------------+\n",
      "|DAY_OF_WEEK|TOTAL COLLISIONS|\n",
      "+-----------+----------------+\n",
      "|          1|          256138|\n",
      "|          2|          303639|\n",
      "|          3|          312870|\n",
      "|          4|          310437|\n",
      "|          5|          317381|\n",
      "|          6|          338510|\n",
      "|          7|          286787|\n",
      "+-----------+----------------+"
     ]
    }
   ],
   "source": [
    "weekday_collisions.show()"
   ]
  },
  {
   "cell_type": "code",
   "execution_count": null,
   "id": "f6863c0d-08b6-462e-92be-89dd4ce02baf",
   "metadata": {},
   "outputs": [],
   "source": []
  },
  {
   "cell_type": "markdown",
   "id": "859cd667-d61e-4247-8c21-652f02c7a65b",
   "metadata": {},
   "source": [
    "# Driver Behavior and Contributing Factors"
   ]
  },
  {
   "cell_type": "code",
   "execution_count": 25,
   "id": "80d4c628-de8d-4d3e-b763-6f92cc30c943",
   "metadata": {},
   "outputs": [
    {
     "data": {
      "application/vnd.jupyter.widget-view+json": {
       "model_id": "",
       "version_major": 2,
       "version_minor": 0
      },
      "text/plain": [
       "FloatProgress(value=0.0, bar_style='info', description='Progress:', layout=Layout(height='25px', width='50%'),…"
      ]
     },
     "metadata": {},
     "output_type": "display_data"
    }
   ],
   "source": [
    "# Combine all contributing factor columns into a single column\n",
    "factors = data.select(\n",
    "    expr(\"stack(5, `CONTRIBUTING FACTOR VEHICLE 1`, `CONTRIBUTING FACTOR VEHICLE 2`, `CONTRIBUTING FACTOR VEHICLE 3`, `CONTRIBUTING FACTOR VEHICLE 4`, `CONTRIBUTING FACTOR VEHICLE 5`) as FACTOR\")\n",
    ").filter((col(\"FACTOR\").isNotNull()) & (col(\"FACTOR\") != \"Unspecified\"))"
   ]
  },
  {
   "cell_type": "code",
   "execution_count": 26,
   "id": "76c625e6-9276-4bd8-bafb-e05db4a5a6e2",
   "metadata": {},
   "outputs": [
    {
     "data": {
      "application/vnd.jupyter.widget-view+json": {
       "model_id": "",
       "version_major": 2,
       "version_minor": 0
      },
      "text/plain": [
       "FloatProgress(value=0.0, bar_style='info', description='Progress:', layout=Layout(height='25px', width='50%'),…"
      ]
     },
     "metadata": {},
     "output_type": "display_data"
    }
   ],
   "source": [
    "# Group by contributing factors and count occurrences\n",
    "common_factors = factors.groupBy(\"FACTOR\") \\\n",
    "    .agg(count(\"*\").alias(\"TOTAL OCCURRENCES\")) \\\n",
    "    .orderBy(col(\"TOTAL OCCURRENCES\").desc())"
   ]
  },
  {
   "cell_type": "code",
   "execution_count": 27,
   "id": "3238c3a0-e5b9-4662-be28-fc914da53c18",
   "metadata": {},
   "outputs": [
    {
     "data": {
      "application/vnd.jupyter.widget-view+json": {
       "model_id": "",
       "version_major": 2,
       "version_minor": 0
      },
      "text/plain": [
       "FloatProgress(value=0.0, bar_style='info', description='Progress:', layout=Layout(height='25px', width='50%'),…"
      ]
     },
     "metadata": {},
     "output_type": "display_data"
    },
    {
     "name": "stdout",
     "output_type": "stream",
     "text": [
      "+------------------------------+-----------------+\n",
      "|FACTOR                        |TOTAL OCCURRENCES|\n",
      "+------------------------------+-----------------+\n",
      "|Driver Inattention/Distraction|526380           |\n",
      "|Failure to Yield Right-of-Way |144190           |\n",
      "|Following Too Closely         |136240           |\n",
      "|Other Vehicular               |102450           |\n",
      "|Backing Unsafely              |86318            |\n",
      "|Passing or Lane Usage Improper|73294            |\n",
      "|Passing Too Closely           |62314            |\n",
      "|Turning Improperly            |61365            |\n",
      "|Fatigued/Drowsy               |59349            |\n",
      "|Unsafe Lane Changing          |48702            |\n",
      "+------------------------------+-----------------+\n",
      "only showing top 10 rows"
     ]
    }
   ],
   "source": [
    "common_factors.show(10, truncate=False)  # Display top 10 most common factors"
   ]
  },
  {
   "cell_type": "code",
   "execution_count": null,
   "id": "163d8bf9-ea9a-47ef-b483-360260ca68dc",
   "metadata": {},
   "outputs": [],
   "source": []
  },
  {
   "cell_type": "markdown",
   "id": "a6d41872",
   "metadata": {},
   "source": [
    "# Save the Data"
   ]
  },
  {
   "cell_type": "code",
   "execution_count": 40,
   "id": "9ba7e843",
   "metadata": {},
   "outputs": [
    {
     "data": {
      "application/vnd.jupyter.widget-view+json": {
       "model_id": "",
       "version_major": 2,
       "version_minor": 0
      },
      "text/plain": [
       "FloatProgress(value=0.0, bar_style='info', description='Progress:', layout=Layout(height='25px', width='50%'),…"
      ]
     },
     "metadata": {},
     "output_type": "display_data"
    }
   ],
   "source": [
    "test = data.select([col(c).alias(c.replace(\" \", \"_\")) for c in data.columns])\n",
    "test.write \\\n",
    "    .mode(\"overwrite\") \\\n",
    "    .format(\"parquet\") \\\n",
    "    .saveAsTable(\"motor_vehicle_collisions.collisions\")"
   ]
  },
  {
   "cell_type": "code",
   "execution_count": 42,
   "id": "dea87ff4",
   "metadata": {},
   "outputs": [
    {
     "data": {
      "application/vnd.jupyter.widget-view+json": {
       "model_id": "",
       "version_major": 2,
       "version_minor": 0
      },
      "text/plain": [
       "FloatProgress(value=0.0, bar_style='info', description='Progress:', layout=Layout(height='25px', width='50%'),…"
      ]
     },
     "metadata": {},
     "output_type": "display_data"
    }
   ],
   "source": [
    "# Save PySpark DataFrame to S3 as CSV\n",
    "test.write \\\n",
    "    .mode(\"overwrite\") \\\n",
    "    .option(\"header\", \"true\") \\\n",
    "    .csv(\"s3://nyc-collisions-ecc/collisions/\")\n"
   ]
  },
  {
   "cell_type": "code",
   "execution_count": null,
   "id": "723719fd",
   "metadata": {},
   "outputs": [],
   "source": []
  }
 ],
 "metadata": {
  "kernelspec": {
   "display_name": "PySpark",
   "language": "python",
   "name": "pysparkkernel"
  },
  "language_info": {
   "codemirror_mode": {
    "name": "python",
    "version": 3
   },
   "file_extension": ".py",
   "mimetype": "text/x-python",
   "name": "pyspark",
   "pygments_lexer": "python3"
  }
 },
 "nbformat": 4,
 "nbformat_minor": 5
}
