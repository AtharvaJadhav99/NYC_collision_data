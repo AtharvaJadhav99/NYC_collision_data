{
 "cells": [
  {
   "cell_type": "code",
   "execution_count": 2,
   "id": "1d81e69f",
   "metadata": {},
   "outputs": [
    {
     "data": {
      "application/vnd.jupyter.widget-view+json": {
       "model_id": "",
       "version_major": 2,
       "version_minor": 0
      },
      "text/plain": [
       "FloatProgress(value=0.0, bar_style='info', description='Progress:', layout=Layout(height='25px', width='50%'),…"
      ]
     },
     "metadata": {},
     "output_type": "display_data"
    },
    {
     "name": "stdout",
     "output_type": "stream",
     "text": [
      "DataFrame[CRASH DATE: string, CRASH TIME: string, BOROUGH: string, ZIP CODE: string, LATITUDE: double, LONGITUDE: double, LOCATION: string, ON STREET NAME: string, CROSS STREET NAME: string, OFF STREET NAME: string, NUMBER OF PERSONS INJURED: string, NUMBER OF PERSONS KILLED: int, NUMBER OF PEDESTRIANS INJURED: int, NUMBER OF PEDESTRIANS KILLED: int, NUMBER OF CYCLIST INJURED: int, NUMBER OF CYCLIST KILLED: string, NUMBER OF MOTORIST INJURED: string, NUMBER OF MOTORIST KILLED: int, CONTRIBUTING FACTOR VEHICLE 1: string, CONTRIBUTING FACTOR VEHICLE 2: string, CONTRIBUTING FACTOR VEHICLE 3: string, CONTRIBUTING FACTOR VEHICLE 4: string, CONTRIBUTING FACTOR VEHICLE 5: string, COLLISION_ID: int, VEHICLE TYPE CODE 1: string, VEHICLE TYPE CODE 2: string, VEHICLE TYPE CODE 3: string, VEHICLE TYPE CODE 4: string, VEHICLE TYPE CODE 5: string]"
     ]
    }
   ],
   "source": [
    "df = spark.read.csv(\"Motor_Vehicle_Collisions_-_Crashes_20241014.csv\", header=True, inferSchema=True)\n",
    "df"
   ]
  },
  {
   "cell_type": "code",
   "execution_count": 3,
   "id": "9f6605f4",
   "metadata": {},
   "outputs": [
    {
     "data": {
      "application/vnd.jupyter.widget-view+json": {
       "model_id": "",
       "version_major": 2,
       "version_minor": 0
      },
      "text/plain": [
       "FloatProgress(value=0.0, bar_style='info', description='Progress:', layout=Layout(height='25px', width='50%'),…"
      ]
     },
     "metadata": {},
     "output_type": "display_data"
    },
    {
     "name": "stdout",
     "output_type": "stream",
     "text": [
      "+----------+----------+--------+--------+---------+----------+--------------------+--------------------+-----------------+--------------------+-------------------------+------------------------+-----------------------------+----------------------------+-------------------------+------------------------+--------------------------+-------------------------+-----------------------------+-----------------------------+-----------------------------+-----------------------------+-----------------------------+------------+-------------------+-------------------+-------------------+-------------------+-------------------+\n",
      "|CRASH DATE|CRASH TIME| BOROUGH|ZIP CODE| LATITUDE| LONGITUDE|            LOCATION|      ON STREET NAME|CROSS STREET NAME|     OFF STREET NAME|NUMBER OF PERSONS INJURED|NUMBER OF PERSONS KILLED|NUMBER OF PEDESTRIANS INJURED|NUMBER OF PEDESTRIANS KILLED|NUMBER OF CYCLIST INJURED|NUMBER OF CYCLIST KILLED|NUMBER OF MOTORIST INJURED|NUMBER OF MOTORIST KILLED|CONTRIBUTING FACTOR VEHICLE 1|CONTRIBUTING FACTOR VEHICLE 2|CONTRIBUTING FACTOR VEHICLE 3|CONTRIBUTING FACTOR VEHICLE 4|CONTRIBUTING FACTOR VEHICLE 5|COLLISION_ID|VEHICLE TYPE CODE 1|VEHICLE TYPE CODE 2|VEHICLE TYPE CODE 3|VEHICLE TYPE CODE 4|VEHICLE TYPE CODE 5|\n",
      "+----------+----------+--------+--------+---------+----------+--------------------+--------------------+-----------------+--------------------+-------------------------+------------------------+-----------------------------+----------------------------+-------------------------+------------------------+--------------------------+-------------------------+-----------------------------+-----------------------------+-----------------------------+-----------------------------+-----------------------------+------------+-------------------+-------------------+-------------------+-------------------+-------------------+\n",
      "|09/11/2021|      2:39|    NULL|    NULL|     NULL|      NULL|                NULL|WHITESTONE EXPRES...|        20 AVENUE|                NULL|                        2|                       0|                            0|                           0|                        0|                       0|                         2|                        0|         Aggressive Drivin...|                  Unspecified|                         NULL|                         NULL|                         NULL|     4455765|              Sedan|              Sedan|               NULL|               NULL|               NULL|\n",
      "|03/26/2022|     11:45|    NULL|    NULL|     NULL|      NULL|                NULL|QUEENSBORO BRIDGE...|             NULL|                NULL|                        1|                       0|                            0|                           0|                        0|                       0|                         1|                        0|            Pavement Slippery|                         NULL|                         NULL|                         NULL|                         NULL|     4513547|              Sedan|               NULL|               NULL|               NULL|               NULL|\n",
      "|06/29/2022|      6:55|    NULL|    NULL|     NULL|      NULL|                NULL|  THROGS NECK BRIDGE|             NULL|                NULL|                        0|                       0|                            0|                           0|                        0|                       0|                         0|                        0|         Following Too Clo...|                  Unspecified|                         NULL|                         NULL|                         NULL|     4541903|              Sedan|      Pick-up Truck|               NULL|               NULL|               NULL|\n",
      "|09/11/2021|      9:35|BROOKLYN|   11208|40.667202|  -73.8665|(40.667202, -73.8...|                NULL|             NULL|1211      LORING ...|                        0|                       0|                            0|                           0|                        0|                       0|                         0|                        0|                  Unspecified|                         NULL|                         NULL|                         NULL|                         NULL|     4456314|              Sedan|               NULL|               NULL|               NULL|               NULL|\n",
      "|12/14/2021|      8:13|BROOKLYN|   11233|40.683304|-73.917274|(40.683304, -73.9...|     SARATOGA AVENUE|   DECATUR STREET|                NULL|                        0|                       0|                            0|                           0|                        0|                       0|                         0|                        0|                         NULL|                         NULL|                         NULL|                         NULL|                         NULL|     4486609|               NULL|               NULL|               NULL|               NULL|               NULL|\n",
      "+----------+----------+--------+--------+---------+----------+--------------------+--------------------+-----------------+--------------------+-------------------------+------------------------+-----------------------------+----------------------------+-------------------------+------------------------+--------------------------+-------------------------+-----------------------------+-----------------------------+-----------------------------+-----------------------------+-----------------------------+------------+-------------------+-------------------+-------------------+-------------------+-------------------+\n",
      "only showing top 5 rows\n",
      "\n",
      "root\n",
      " |-- CRASH DATE: string (nullable = true)\n",
      " |-- CRASH TIME: string (nullable = true)\n",
      " |-- BOROUGH: string (nullable = true)\n",
      " |-- ZIP CODE: string (nullable = true)\n",
      " |-- LATITUDE: double (nullable = true)\n",
      " |-- LONGITUDE: double (nullable = true)\n",
      " |-- LOCATION: string (nullable = true)\n",
      " |-- ON STREET NAME: string (nullable = true)\n",
      " |-- CROSS STREET NAME: string (nullable = true)\n",
      " |-- OFF STREET NAME: string (nullable = true)\n",
      " |-- NUMBER OF PERSONS INJURED: string (nullable = true)\n",
      " |-- NUMBER OF PERSONS KILLED: integer (nullable = true)\n",
      " |-- NUMBER OF PEDESTRIANS INJURED: integer (nullable = true)\n",
      " |-- NUMBER OF PEDESTRIANS KILLED: integer (nullable = true)\n",
      " |-- NUMBER OF CYCLIST INJURED: integer (nullable = true)\n",
      " |-- NUMBER OF CYCLIST KILLED: string (nullable = true)\n",
      " |-- NUMBER OF MOTORIST INJURED: string (nullable = true)\n",
      " |-- NUMBER OF MOTORIST KILLED: integer (nullable = true)\n",
      " |-- CONTRIBUTING FACTOR VEHICLE 1: string (nullable = true)\n",
      " |-- CONTRIBUTING FACTOR VEHICLE 2: string (nullable = true)\n",
      " |-- CONTRIBUTING FACTOR VEHICLE 3: string (nullable = true)\n",
      " |-- CONTRIBUTING FACTOR VEHICLE 4: string (nullable = true)\n",
      " |-- CONTRIBUTING FACTOR VEHICLE 5: string (nullable = true)\n",
      " |-- COLLISION_ID: integer (nullable = true)\n",
      " |-- VEHICLE TYPE CODE 1: string (nullable = true)\n",
      " |-- VEHICLE TYPE CODE 2: string (nullable = true)\n",
      " |-- VEHICLE TYPE CODE 3: string (nullable = true)\n",
      " |-- VEHICLE TYPE CODE 4: string (nullable = true)\n",
      " |-- VEHICLE TYPE CODE 5: string (nullable = true)"
     ]
    }
   ],
   "source": [
    "df.show(5)\n",
    "df.printSchema()"
   ]
  },
  {
   "cell_type": "markdown",
   "id": "5c8f3d27",
   "metadata": {},
   "source": [
    "Geospatial Analysis"
   ]
  },
  {
   "cell_type": "code",
   "execution_count": 5,
   "id": "ff4b2c0e",
   "metadata": {},
   "outputs": [
    {
     "data": {
      "application/vnd.jupyter.widget-view+json": {
       "model_id": "",
       "version_major": 2,
       "version_minor": 0
      },
      "text/plain": [
       "FloatProgress(value=0.0, bar_style='info', description='Progress:', layout=Layout(height='25px', width='50%'),…"
      ]
     },
     "metadata": {},
     "output_type": "display_data"
    },
    {
     "name": "stdout",
     "output_type": "stream",
     "text": [
      "+----------+-----------+-----+\n",
      "|  LATITUDE|  LONGITUDE|count|\n",
      "+----------+-----------+-----+\n",
      "|       0.0|        0.0| 4787|\n",
      "| 40.861862|  -73.91282|  685|\n",
      "| 40.608757| -74.038086|  670|\n",
      "| 40.696033|  -73.98453|  646|\n",
      "|   40.8047|  -73.91243|  597|\n",
      "|40.6960346|-73.9845292|  587|\n",
      "| 40.675735|  -73.89686|  575|\n",
      "| 40.658577|  -73.89063|  513|\n",
      "|40.7606005|-73.9643142|  474|\n",
      "|  40.77077|  -73.91727|  467|\n",
      "+----------+-----------+-----+"
     ]
    }
   ],
   "source": [
    "collisions_with_location = df.filter((col(\"LATITUDE\").isNotNull()) & (col(\"LONGITUDE\").isNotNull()))\n",
    "\n",
    "# Count collisions by unique (latitude, longitude) locations\n",
    "location_counts = collisions_with_location.groupBy(\"LATITUDE\", \"LONGITUDE\").count()\n",
    "top_10_locations = location_counts.orderBy(col(\"count\").desc()).limit(10)\n",
    "top_10_locations.show()"
   ]
  },
  {
   "cell_type": "code",
   "execution_count": 39,
   "id": "4f9bf4bd",
   "metadata": {},
   "outputs": [
    {
     "data": {
      "application/vnd.jupyter.widget-view+json": {
       "model_id": "",
       "version_major": 2,
       "version_minor": 0
      },
      "text/plain": [
       "FloatProgress(value=0.0, bar_style='info', description='Progress:', layout=Layout(height='25px', width='50%'),…"
      ]
     },
     "metadata": {},
     "output_type": "display_data"
    },
    {
     "name": "stdout",
     "output_type": "stream",
     "text": [
      "+----------+-----------+-----+\n",
      "|  LATITUDE|  LONGITUDE|count|\n",
      "+----------+-----------+-----+\n",
      "| 40.861862|  -73.91282|  685|\n",
      "| 40.608757| -74.038086|  670|\n",
      "| 40.696033|  -73.98453|  646|\n",
      "|   40.8047|  -73.91243|  597|\n",
      "|40.6960346|-73.9845292|  587|\n",
      "| 40.675735|  -73.89686|  575|\n",
      "| 40.658577|  -73.89063|  513|\n",
      "|40.7606005|-73.9643142|  474|\n",
      "|  40.77077|  -73.91727|  467|\n",
      "| 40.820305|  -73.89083|  467|\n",
      "+----------+-----------+-----+"
     ]
    }
   ],
   "source": [
    "from pyspark.sql.functions import col\n",
    "\n",
    "# Filter for collisions with valid location data\n",
    "collisions_with_location = df.filter(\n",
    "    (col(\"LATITUDE\").isNotNull()) & \n",
    "    (col(\"LONGITUDE\").isNotNull()) &\n",
    "    ~((col(\"LATITUDE\") == 0) & (col(\"LONGITUDE\") == 0))  # Exclude (0, 0)\n",
    ")\n",
    "\n",
    "# Count collisions by unique (latitude, longitude) locations\n",
    "location_counts = collisions_with_location.groupBy(\"LATITUDE\", \"LONGITUDE\").count()\n",
    "\n",
    "# Get top 10 locations with the most collisions\n",
    "top_10_locations = location_counts.orderBy(col(\"count\").desc()).limit(10)\n",
    "\n",
    "# Show results\n",
    "top_10_locations.show()\n"
   ]
  },
  {
   "cell_type": "code",
   "execution_count": 6,
   "id": "0cb7a76b",
   "metadata": {},
   "outputs": [
    {
     "data": {
      "application/vnd.jupyter.widget-view+json": {
       "model_id": "",
       "version_major": 2,
       "version_minor": 0
      },
      "text/plain": [
       "FloatProgress(value=0.0, bar_style='info', description='Progress:', layout=Layout(height='25px', width='50%'),…"
      ]
     },
     "metadata": {},
     "output_type": "display_data"
    },
    {
     "name": "stdout",
     "output_type": "stream",
     "text": [
      "+-------------+------+\n",
      "|      BOROUGH| count|\n",
      "+-------------+------+\n",
      "|         NULL|661104|\n",
      "|     BROOKLYN|466932|\n",
      "|       QUEENS|392870|\n",
      "|    MANHATTAN|326661|\n",
      "|        BRONX|216787|\n",
      "|STATEN ISLAND| 61409|\n",
      "|            0|     1|\n",
      "+-------------+------+"
     ]
    }
   ],
   "source": [
    "borough_counts = df.groupBy(\"BOROUGH\").count().orderBy(\"count\", ascending=False)\n",
    "borough_counts.show()"
   ]
  },
  {
   "cell_type": "code",
   "execution_count": 8,
   "id": "7c54b439",
   "metadata": {},
   "outputs": [
    {
     "data": {
      "application/vnd.jupyter.widget-view+json": {
       "model_id": "",
       "version_major": 2,
       "version_minor": 0
      },
      "text/plain": [
       "FloatProgress(value=0.0, bar_style='info', description='Progress:', layout=Layout(height='25px', width='50%'),…"
      ]
     },
     "metadata": {},
     "output_type": "display_data"
    },
    {
     "name": "stdout",
     "output_type": "stream",
     "text": [
      "+-------------+------+\n",
      "|      BOROUGH| count|\n",
      "+-------------+------+\n",
      "|     BROOKLYN|466932|\n",
      "|       QUEENS|392870|\n",
      "|    MANHATTAN|326661|\n",
      "|        BRONX|216787|\n",
      "|STATEN ISLAND| 61409|\n",
      "+-------------+------+"
     ]
    }
   ],
   "source": [
    "# Filter out rows with null or incorrect values in the BOROUGH column\n",
    "borough_counts_filtered = df.filter((col(\"BOROUGH\").isNotNull()) & (col(\"BOROUGH\") != \"0\")) \\\n",
    "    .groupBy(\"BOROUGH\").count().orderBy(\"count\", ascending=False)\n",
    "\n",
    "# Display the cleaned counts\n",
    "borough_counts_filtered.show()"
   ]
  },
  {
   "cell_type": "markdown",
   "id": "ed29e707",
   "metadata": {},
   "source": [
    "Brooklyn has the highest number of accidents with 466,932, followed by Queens with 392,870 and Manhattan with 326,661. The Bronx recorded 216,787 accidents, while Staten Island had the lowest count at 61,409."
   ]
  },
  {
   "cell_type": "code",
   "execution_count": 10,
   "id": "2ccf0c2a",
   "metadata": {},
   "outputs": [
    {
     "data": {
      "application/vnd.jupyter.widget-view+json": {
       "model_id": "",
       "version_major": 2,
       "version_minor": 0
      },
      "text/plain": [
       "FloatProgress(value=0.0, bar_style='info', description='Progress:', layout=Layout(height='25px', width='50%'),…"
      ]
     },
     "metadata": {},
     "output_type": "display_data"
    },
    {
     "name": "stdout",
     "output_type": "stream",
     "text": [
      "+--------------------+--------------------+-----+\n",
      "|      ON STREET NAME|   CROSS STREET NAME|count|\n",
      "+--------------------+--------------------+-----+\n",
      "|WEST 42 STREET   ...|8 AVENUE         ...|  396|\n",
      "|FLATBUSH AVENUE  ...|GRAND ARMY PLAZA ...|  372|\n",
      "|EAST 59 STREET   ...|2 AVENUE         ...|  339|\n",
      "|BRUCKNER BOULEVAR...|     EAST 138 STREET|  337|\n",
      "|ROCKAWAY BOULEVAR...|BROOKVILLE BOULEV...|  334|\n",
      "|WEST FORDHAM ROAD...|MAJOR DEEGAN EXPR...|  323|\n",
      "|ROCKAWAY BOULEVAR...|BROOKVILLE BOULEVARD|  322|\n",
      "|TILLARY STREET   ...|FLATBUSH AVENUE E...|  320|\n",
      "|EAST 57 STREET   ...|3 AVENUE         ...|  306|\n",
      "|WEST 34 STREET   ...|7 AVENUE         ...|  299|\n",
      "+--------------------+--------------------+-----+\n",
      "only showing top 10 rows"
     ]
    }
   ],
   "source": [
    "collisions_with_streets = df.filter((col(\"ON STREET NAME\").isNotNull()) & (col(\"CROSS STREET NAME\").isNotNull()))\n",
    "\n",
    "# Count collisions by intersections (ON STREET NAME and CROSS STREET NAME)\n",
    "intersection_counts = collisions_with_streets.groupBy(\"ON STREET NAME\", \"CROSS STREET NAME\").count().orderBy(\"count\", ascending=False)\n",
    "intersection_counts.show(10)"
   ]
  },
  {
   "cell_type": "markdown",
   "id": "1dffe711",
   "metadata": {},
   "source": [
    "The top accident-prone intersections are West 42 Street & 8 Avenue (396 accidents), followed by Flatbush Avenue & Grand Army Plaza (372) and East 59 Street & 2 Avenue (339). Other notable intersections include Bruckner Boulevard & East 138 Street (337) and Rockaway Boulevard & Brookville Boulevard (334)."
   ]
  },
  {
   "cell_type": "code",
   "execution_count": 12,
   "id": "c0969cfa",
   "metadata": {},
   "outputs": [
    {
     "data": {
      "application/vnd.jupyter.widget-view+json": {
       "model_id": "",
       "version_major": 2,
       "version_minor": 0
      },
      "text/plain": [
       "FloatProgress(value=0.0, bar_style='info', description='Progress:', layout=Layout(height='25px', width='50%'),…"
      ]
     },
     "metadata": {},
     "output_type": "display_data"
    },
    {
     "name": "stdout",
     "output_type": "stream",
     "text": [
      "+--------------------+-----+\n",
      "|      ON STREET NAME|count|\n",
      "+--------------------+-----+\n",
      "|BROADWAY         ...|17277|\n",
      "|ATLANTIC AVENUE  ...|15322|\n",
      "|BELT PARKWAY     ...|13543|\n",
      "|3 AVENUE         ...|12476|\n",
      "|NORTHERN BOULEVAR...|11965|\n",
      "|LONG ISLAND EXPRE...| 9928|\n",
      "|BROOKLYN QUEENS E...| 9743|\n",
      "|FLATBUSH AVENUE  ...| 9741|\n",
      "|LINDEN BOULEVARD ...| 9587|\n",
      "|QUEENS BOULEVARD ...| 9368|\n",
      "+--------------------+-----+\n",
      "only showing top 10 rows"
     ]
    }
   ],
   "source": [
    "# Alternatively, count collisions by individual streets\n",
    "street_counts_filtered = df.filter(df[\"ON STREET NAME\"].isNotNull())\n",
    "street_counts = street_counts_filtered.groupBy(\"ON STREET NAME\").count().orderBy(\"count\", ascending=False)\n",
    "street_counts.show(10)"
   ]
  },
  {
   "cell_type": "markdown",
   "id": "c18ba5c2",
   "metadata": {},
   "source": [
    "The top streets with the highest number of collisions are Broadway (17,277), Atlantic Avenue (15,322), and Belt Parkway (13,543). Other streets with significant collision counts include 3 Avenue (12,476), Northern Boulevard (11,965), Long Island Expressway (9,928), Brooklyn Queens Expressway (9,743), Flatbush Avenue (9,741), Linden Boulevard (9,587), and Queens Boulevard (9,368)."
   ]
  },
  {
   "cell_type": "markdown",
   "id": "9c9b6b94",
   "metadata": {},
   "source": [
    "Severity of Collisions"
   ]
  },
  {
   "cell_type": "code",
   "execution_count": 14,
   "id": "0bfaa471",
   "metadata": {},
   "outputs": [
    {
     "data": {
      "application/vnd.jupyter.widget-view+json": {
       "model_id": "",
       "version_major": 2,
       "version_minor": 0
      },
      "text/plain": [
       "FloatProgress(value=0.0, bar_style='info', description='Progress:', layout=Layout(height='25px', width='50%'),…"
      ]
     },
     "metadata": {},
     "output_type": "display_data"
    },
    {
     "name": "stdout",
     "output_type": "stream",
     "text": [
      "+--------------+-------+\n",
      "|      SEVERITY|  count|\n",
      "+--------------+-------+\n",
      "|  Minor Damage|1626967|\n",
      "|Serious Injury| 495680|\n",
      "|      Fatality|   3117|\n",
      "+--------------+-------+"
     ]
    }
   ],
   "source": [
    "from pyspark.sql import functions as F\n",
    "# Define severity based on the injury and fatality counts\n",
    "df = df.withColumn(\n",
    "    \"SEVERITY\",\n",
    "    F.when(\n",
    "        (col(\"NUMBER OF PERSONS KILLED\") > 0), \"Fatality\"\n",
    "    ).when(\n",
    "        (col(\"NUMBER OF PERSONS INJURED\") > 0) & (col(\"NUMBER OF PERSONS KILLED\") == 0), \"Serious Injury\"\n",
    "    ).otherwise(\"Minor Damage\")\n",
    ")\n",
    "\n",
    "# Count accidents by severity\n",
    "severity_counts = df.groupBy(\"SEVERITY\").count().orderBy(\"count\", ascending=False)\n",
    "severity_counts.show()"
   ]
  },
  {
   "cell_type": "code",
   "execution_count": 15,
   "id": "5721ca36",
   "metadata": {},
   "outputs": [
    {
     "data": {
      "application/vnd.jupyter.widget-view+json": {
       "model_id": "",
       "version_major": 2,
       "version_minor": 0
      },
      "text/plain": [
       "FloatProgress(value=0.0, bar_style='info', description='Progress:', layout=Layout(height='25px', width='50%'),…"
      ]
     },
     "metadata": {},
     "output_type": "display_data"
    },
    {
     "name": "stdout",
     "output_type": "stream",
     "text": [
      "+--------------+-------+\n",
      "|      SEVERITY|  count|\n",
      "+--------------+-------+\n",
      "|  Minor Damage|1626767|\n",
      "|Serious Injury| 495880|\n",
      "|      Fatality|   3117|\n",
      "+--------------+-------+"
     ]
    }
   ],
   "source": [
    "from pyspark.sql import functions as F\n",
    "\n",
    "# Define severity based on the injury and fatality counts\n",
    "df = df.withColumn(\n",
    "    \"SEVERITY\",\n",
    "    F.when(\n",
    "        (F.col(\"NUMBER OF PERSONS KILLED\") > 0), \"Fatality\"\n",
    "    ).when(\n",
    "        ((F.col(\"NUMBER OF PERSONS INJURED\") > 0) |\n",
    "         (F.col(\"NUMBER OF PEDESTRIANS INJURED\") > 0) |\n",
    "         (F.col(\"NUMBER OF CYCLIST INJURED\") > 0) |\n",
    "         (F.col(\"NUMBER OF MOTORIST INJURED\") > 0)) & \n",
    "        (F.col(\"NUMBER OF PERSONS KILLED\") == 0), \"Serious Injury\"\n",
    "    ).otherwise(\"Minor Damage\")\n",
    ")\n",
    "\n",
    "# Count accidents by severity\n",
    "severity_counts = df.groupBy(\"SEVERITY\").count().orderBy(\"count\", ascending=False)\n",
    "severity_counts.show()\n"
   ]
  },
  {
   "cell_type": "code",
   "execution_count": 16,
   "id": "6804508c",
   "metadata": {},
   "outputs": [
    {
     "data": {
      "application/vnd.jupyter.widget-view+json": {
       "model_id": "",
       "version_major": 2,
       "version_minor": 0
      },
      "text/plain": [
       "FloatProgress(value=0.0, bar_style='info', description='Progress:', layout=Layout(height='25px', width='50%'),…"
      ]
     },
     "metadata": {},
     "output_type": "display_data"
    },
    {
     "name": "stdout",
     "output_type": "stream",
     "text": [
      "+--------------+-------+\n",
      "|      SEVERITY|  count|\n",
      "+--------------+-------+\n",
      "|  Minor Damage|1626763|\n",
      "|Serious Injury| 495878|\n",
      "|      Fatality|   3123|\n",
      "+--------------+-------+"
     ]
    }
   ],
   "source": [
    "from pyspark.sql import functions as F\n",
    "\n",
    "# Define severity based on injuries and fatalities\n",
    "df = df.withColumn(\n",
    "    \"SEVERITY\",\n",
    "    F.when(\n",
    "        (F.col(\"NUMBER OF PERSONS KILLED\") > 0) |\n",
    "        (F.col(\"NUMBER OF PEDESTRIANS KILLED\") > 0) |\n",
    "        (F.col(\"NUMBER OF CYCLIST KILLED\") > 0) |\n",
    "        (F.col(\"NUMBER OF MOTORIST KILLED\") > 0), \"Fatality\"\n",
    "    ).when(\n",
    "        ((F.col(\"NUMBER OF PERSONS INJURED\") > 0) |\n",
    "         (F.col(\"NUMBER OF PEDESTRIANS INJURED\") > 0) |\n",
    "         (F.col(\"NUMBER OF CYCLIST INJURED\") > 0) |\n",
    "         (F.col(\"NUMBER OF MOTORIST INJURED\") > 0)) &\n",
    "        (F.col(\"NUMBER OF PERSONS KILLED\") == 0) &\n",
    "        (F.col(\"NUMBER OF PEDESTRIANS KILLED\") == 0) &\n",
    "        (F.col(\"NUMBER OF CYCLIST KILLED\") == 0) &\n",
    "        (F.col(\"NUMBER OF MOTORIST KILLED\") == 0), \"Serious Injury\"\n",
    "    ).otherwise(\"Minor Damage\")\n",
    ")\n",
    "\n",
    "# Count accidents by severity\n",
    "severity_counts = df.groupBy(\"SEVERITY\").count().orderBy(\"count\", ascending=False)\n",
    "severity_counts.show()\n"
   ]
  },
  {
   "cell_type": "markdown",
   "id": "de5a9a0f",
   "metadata": {},
   "source": [
    "The severity analysis of collisions shows that the majority of incidents (1,626,763) resulted in minor damage with no injuries or fatalities, indicating low severity. However, 495,878 collisions involved serious injuries to persons, pedestrians, cyclists, or motorists, highlighting a substantial number of high-impact incidents. Fatal collisions, while relatively rare at 3,123 cases, represent the most severe outcomes and underscore the critical need for targeted safety measures to reduce fatalities and serious injuries on the roads."
   ]
  },
  {
   "cell_type": "code",
   "execution_count": 22,
   "id": "54d40efb",
   "metadata": {},
   "outputs": [
    {
     "data": {
      "application/vnd.jupyter.widget-view+json": {
       "model_id": "",
       "version_major": 2,
       "version_minor": 0
      },
      "text/plain": [
       "FloatProgress(value=0.0, bar_style='info', description='Progress:', layout=Layout(height='25px', width='50%'),…"
      ]
     },
     "metadata": {},
     "output_type": "display_data"
    },
    {
     "name": "stdout",
     "output_type": "stream",
     "text": [
      "+--------------------+--------------+------+\n",
      "|        VEHICLE_TYPE|      SEVERITY| count|\n",
      "+--------------------+--------------+------+\n",
      "|               Sedan|Serious Injury|272660|\n",
      "|Station Wagon/Spo...|Serious Injury|210574|\n",
      "|   PASSENGER VEHICLE|Serious Injury|133974|\n",
      "|SPORT UTILITY / S...|Serious Injury| 57294|\n",
      "|                Bike|Serious Injury| 41281|\n",
      "|                Taxi|Serious Injury| 23003|\n",
      "|             BICYCLE|Serious Injury| 15154|\n",
      "|          4 dr sedan|Serious Injury| 14367|\n",
      "|       Pick-up Truck|Serious Injury| 13774|\n",
      "|          Motorcycle|Serious Injury| 10124|\n",
      "+--------------------+--------------+------+\n",
      "only showing top 10 rows"
     ]
    }
   ],
   "source": [
    "from pyspark.sql.functions import col\n",
    "\n",
    "# Combine all vehicle type columns into one DataFrame\n",
    "vehicle_type_dfs = []\n",
    "\n",
    "for col_name in [\n",
    "    \"VEHICLE TYPE CODE 1\",\n",
    "    \"VEHICLE TYPE CODE 2\",\n",
    "    \"VEHICLE TYPE CODE 3\",\n",
    "    \"VEHICLE TYPE CODE 4\",\n",
    "    \"VEHICLE TYPE CODE 5\"\n",
    "]:\n",
    "    vehicle_type_dfs.append(\n",
    "        severe_collisions.select(col(col_name).alias(\"VEHICLE_TYPE\"), col(\"SEVERITY\"))\n",
    "    )\n",
    "\n",
    "# Union all vehicle type DataFrames\n",
    "all_vehicle_types = vehicle_type_dfs[0]\n",
    "\n",
    "for df in vehicle_type_dfs[1:]:\n",
    "    all_vehicle_types = all_vehicle_types.union(df)\n",
    "\n",
    "# Filter null and unknown vehicle types\n",
    "all_vehicle_types = all_vehicle_types.filter(\n",
    "    (col(\"VEHICLE_TYPE\").isNotNull()) & (col(\"VEHICLE_TYPE\") != \"UNKNOWN\")\n",
    ")\n",
    "\n",
    "# Group by vehicle type and severity\n",
    "vehicle_type_counts = all_vehicle_types.groupBy(\"VEHICLE_TYPE\", \"SEVERITY\").count() \\\n",
    "    .orderBy(\"count\", ascending=False)\n",
    "\n",
    "# Display results\n",
    "vehicle_type_counts.show(10)\n"
   ]
  },
  {
   "cell_type": "code",
   "execution_count": 24,
   "id": "0089adfe",
   "metadata": {},
   "outputs": [
    {
     "data": {
      "application/vnd.jupyter.widget-view+json": {
       "model_id": "",
       "version_major": 2,
       "version_minor": 0
      },
      "text/plain": [
       "FloatProgress(value=0.0, bar_style='info', description='Progress:', layout=Layout(height='25px', width='50%'),…"
      ]
     },
     "metadata": {},
     "output_type": "display_data"
    },
    {
     "name": "stdout",
     "output_type": "stream",
     "text": [
      "Top 10 vehicle types for Serious Injury:\n",
      "+--------------------+--------------+------+\n",
      "|        VEHICLE_TYPE|      SEVERITY| count|\n",
      "+--------------------+--------------+------+\n",
      "|               Sedan|Serious Injury|272660|\n",
      "|Station Wagon/Spo...|Serious Injury|210574|\n",
      "|   PASSENGER VEHICLE|Serious Injury|133974|\n",
      "|SPORT UTILITY / S...|Serious Injury| 57294|\n",
      "|                Bike|Serious Injury| 41281|\n",
      "|                Taxi|Serious Injury| 23003|\n",
      "|             BICYCLE|Serious Injury| 15154|\n",
      "|          4 dr sedan|Serious Injury| 14367|\n",
      "|       Pick-up Truck|Serious Injury| 13774|\n",
      "|          Motorcycle|Serious Injury| 10124|\n",
      "+--------------------+--------------+------+\n",
      "\n",
      "Top 10 vehicle types for Fatality:\n",
      "+--------------------+--------+-----+\n",
      "|        VEHICLE_TYPE|SEVERITY|count|\n",
      "+--------------------+--------+-----+\n",
      "|Station Wagon/Spo...|Fatality| 1101|\n",
      "|               Sedan|Fatality| 1073|\n",
      "|   PASSENGER VEHICLE|Fatality|  575|\n",
      "|SPORT UTILITY / S...|Fatality|  347|\n",
      "|          Motorcycle|Fatality|  306|\n",
      "|                Bike|Fatality|  165|\n",
      "|          MOTORCYCLE|Fatality|  120|\n",
      "|       Pick-up Truck|Fatality|  105|\n",
      "|           Box Truck|Fatality|   89|\n",
      "|                 Bus|Fatality|   79|\n",
      "+--------------------+--------+-----+"
     ]
    }
   ],
   "source": [
    "from pyspark.sql.functions import col\n",
    "\n",
    "# Combine all vehicle type columns into one DataFrame\n",
    "vehicle_type_dfs = []\n",
    "\n",
    "for col_name in [\n",
    "    \"VEHICLE TYPE CODE 1\",\n",
    "    \"VEHICLE TYPE CODE 2\",\n",
    "    \"VEHICLE TYPE CODE 3\",\n",
    "    \"VEHICLE TYPE CODE 4\",\n",
    "    \"VEHICLE TYPE CODE 5\"\n",
    "]:\n",
    "    vehicle_type_dfs.append(\n",
    "        severe_collisions.select(col(col_name).alias(\"VEHICLE_TYPE\"), col(\"SEVERITY\"))\n",
    "    )\n",
    "\n",
    "# Union all vehicle type DataFrames\n",
    "all_vehicle_types = vehicle_type_dfs[0]\n",
    "for df in vehicle_type_dfs[1:]:\n",
    "    all_vehicle_types = all_vehicle_types.union(df)\n",
    "\n",
    "# Filter null and unknown vehicle types\n",
    "all_vehicle_types = all_vehicle_types.filter(\n",
    "    (col(\"VEHICLE_TYPE\").isNotNull()) & (col(\"VEHICLE_TYPE\") != \"UNKNOWN\")\n",
    ")\n",
    "\n",
    "# Group by vehicle type and severity\n",
    "vehicle_type_counts = all_vehicle_types.groupBy(\"VEHICLE_TYPE\", \"SEVERITY\").count()\n",
    "\n",
    "# Top 10 vehicle types for Serious Injury\n",
    "print(\"Top 10 vehicle types for Serious Injury:\")\n",
    "serious_injury_top10 = vehicle_type_counts.filter(col(\"SEVERITY\") == \"Serious Injury\") \\\n",
    "    .orderBy(\"count\", ascending=False) \\\n",
    "    .limit(10)\n",
    "serious_injury_top10.show()\n",
    "\n",
    "# Top 10 vehicle types for Fatality\n",
    "print(\"Top 10 vehicle types for Fatality:\")\n",
    "fatality_top10 = vehicle_type_counts.filter(col(\"SEVERITY\") == \"Fatality\") \\\n",
    "    .orderBy(\"count\", ascending=False) \\\n",
    "    .limit(10)\n",
    "fatality_top10.show()\n"
   ]
  },
  {
   "cell_type": "markdown",
   "id": "b34ecbe6",
   "metadata": {},
   "source": [
    "The analysis of severe collisions reveals that sedans are the most common vehicle type involved in both serious injuries (272,660) and fatalities (1,073). Station wagons and sport utility vehicles (SUVs) are also highly represented in both categories, with 210,574 serious injuries and 1,101 fatalities for station wagons/SUVs. Other notable contributors include passenger vehicles, which account for 133,974 serious injuries and 575 fatalities, and motorcycles, which rank higher in fatalities (306) than in serious injuries (10,124).\n",
    "\n",
    "Additionally, bikes and bicycles are significant in serious injuries (41,281 and 15,154 respectively) and fatalities (165). Pick-up trucks and box trucks feature prominently in both lists, with fewer counts compared to sedans and SUVs. "
   ]
  },
  {
   "cell_type": "code",
   "execution_count": 31,
   "id": "493fb6ce",
   "metadata": {},
   "outputs": [
    {
     "data": {
      "application/vnd.jupyter.widget-view+json": {
       "model_id": "",
       "version_major": 2,
       "version_minor": 0
      },
      "text/plain": [
       "FloatProgress(value=0.0, bar_style='info', description='Progress:', layout=Layout(height='25px', width='50%'),…"
      ]
     },
     "metadata": {},
     "output_type": "display_data"
    },
    {
     "name": "stdout",
     "output_type": "stream",
     "text": [
      "['CRASH DATE', 'CRASH TIME', 'BOROUGH', 'ZIP CODE', 'LATITUDE', 'LONGITUDE', 'LOCATION', 'ON STREET NAME', 'CROSS STREET NAME', 'OFF STREET NAME', 'NUMBER OF PERSONS INJURED', 'NUMBER OF PERSONS KILLED', 'NUMBER OF PEDESTRIANS INJURED', 'NUMBER OF PEDESTRIANS KILLED', 'NUMBER OF CYCLIST INJURED', 'NUMBER OF CYCLIST KILLED', 'NUMBER OF MOTORIST INJURED', 'NUMBER OF MOTORIST KILLED', 'CONTRIBUTING FACTOR VEHICLE 1', 'CONTRIBUTING FACTOR VEHICLE 2', 'CONTRIBUTING FACTOR VEHICLE 3', 'CONTRIBUTING FACTOR VEHICLE 4', 'CONTRIBUTING FACTOR VEHICLE 5', 'COLLISION_ID', 'VEHICLE TYPE CODE 1', 'VEHICLE TYPE CODE 2', 'VEHICLE TYPE CODE 3', 'VEHICLE TYPE CODE 4', 'VEHICLE TYPE CODE 5']"
     ]
    }
   ],
   "source": [
    "# Example of reloading the original data\n",
    "df = spark.read.csv(\"Motor_Vehicle_Collisions_-_Crashes_20241014.csv\", header=True, inferSchema=True)\n",
    "\n",
    "# Verify columns\n",
    "print(df.columns)"
   ]
  },
  {
   "cell_type": "code",
   "execution_count": 32,
   "id": "f5c41134",
   "metadata": {},
   "outputs": [
    {
     "data": {
      "application/vnd.jupyter.widget-view+json": {
       "model_id": "",
       "version_major": 2,
       "version_minor": 0
      },
      "text/plain": [
       "FloatProgress(value=0.0, bar_style='info', description='Progress:', layout=Layout(height='25px', width='50%'),…"
      ]
     },
     "metadata": {},
     "output_type": "display_data"
    },
    {
     "name": "stdout",
     "output_type": "stream",
     "text": [
      "Summary for collisions involving bicycles or pedestrians:\n",
      "+--------------+----------------+\n",
      "|Total Injuries|Total Fatalities|\n",
      "+--------------+----------------+\n",
      "|        184829|            1880|\n",
      "+--------------+----------------+\n",
      "\n",
      "Summary for collisions involving only vehicles:\n",
      "+--------------+----------------+\n",
      "|Total Injuries|Total Fatalities|\n",
      "+--------------+----------------+\n",
      "|        488611|            1369|\n",
      "+--------------+----------------+"
     ]
    }
   ],
   "source": [
    "from pyspark.sql.functions import col, sum\n",
    "\n",
    "# Cast string columns to integers for numerical operations\n",
    "df = df.withColumn(\"NUMBER OF PERSONS INJURED\", col(\"NUMBER OF PERSONS INJURED\").cast(\"integer\")) \\\n",
    "       .withColumn(\"NUMBER OF CYCLIST KILLED\", col(\"NUMBER OF CYCLIST KILLED\").cast(\"integer\")) \\\n",
    "       .withColumn(\"NUMBER OF MOTORIST INJURED\", col(\"NUMBER OF MOTORIST INJURED\").cast(\"integer\"))\n",
    "\n",
    "# Filter collisions involving bicycles or pedestrians\n",
    "bicycle_pedestrian_collisions = df.filter(\n",
    "    (col(\"NUMBER OF PEDESTRIANS INJURED\") > 0) |\n",
    "    (col(\"NUMBER OF PEDESTRIANS KILLED\") > 0) |\n",
    "    (col(\"NUMBER OF CYCLIST INJURED\") > 0) |\n",
    "    (col(\"NUMBER OF CYCLIST KILLED\") > 0)\n",
    ")\n",
    "\n",
    "# Aggregate for injuries and fatalities in collisions involving bicycles or pedestrians\n",
    "summary_bicycle_pedestrian = bicycle_pedestrian_collisions.select(\n",
    "    sum(\"NUMBER OF PERSONS INJURED\").alias(\"Total Injuries\"),\n",
    "    sum(\"NUMBER OF PERSONS KILLED\").alias(\"Total Fatalities\")\n",
    ")\n",
    "\n",
    "# Filter collisions involving only vehicles\n",
    "vehicle_only_collisions = df.filter(\n",
    "    (col(\"NUMBER OF PEDESTRIANS INJURED\") == 0) &\n",
    "    (col(\"NUMBER OF PEDESTRIANS KILLED\") == 0) &\n",
    "    (col(\"NUMBER OF CYCLIST INJURED\") == 0) &\n",
    "    (col(\"NUMBER OF CYCLIST KILLED\") == 0)\n",
    ")\n",
    "\n",
    "# Aggregate for injuries and fatalities in vehicle-only collisions\n",
    "summary_vehicle_only = vehicle_only_collisions.select(\n",
    "    sum(\"NUMBER OF PERSONS INJURED\").alias(\"Total Injuries\"),\n",
    "    sum(\"NUMBER OF PERSONS KILLED\").alias(\"Total Fatalities\")\n",
    ")\n",
    "\n",
    "# Display summaries\n",
    "print(\"Summary for collisions involving bicycles or pedestrians:\")\n",
    "summary_bicycle_pedestrian.show()\n",
    "\n",
    "print(\"Summary for collisions involving only vehicles:\")\n",
    "summary_vehicle_only.show()\n"
   ]
  },
  {
   "cell_type": "markdown",
   "id": "7b2ccc21",
   "metadata": {},
   "source": [
    "Collisions Involving Bicycles or Pedestrians:\n",
    "\n",
    "Total Injuries: 184,829\n",
    "Total Fatalities: 1,880\n",
    "These collisions result in a significant number of injuries and a higher fatality count compared to vehicle-only collisions, highlighting the vulnerability of cyclists and pedestrians in traffic incidents.\n",
    "\n",
    "Collisions Involving Only Vehicles:\n",
    "\n",
    "Total Injuries: 488,611\n",
    "Total Fatalities: 1,369\n",
    "While the total injuries are higher due to the greater frequency of vehicle-only collisions, the fatality rate is notably lower compared to collisions involving bicycles or pedestrians."
   ]
  },
  {
   "cell_type": "markdown",
   "id": "7fe1d1ff",
   "metadata": {},
   "source": [
    "Injury and Fatality Patterns"
   ]
  },
  {
   "cell_type": "code",
   "execution_count": 35,
   "id": "add012f4",
   "metadata": {},
   "outputs": [
    {
     "data": {
      "application/vnd.jupyter.widget-view+json": {
       "model_id": "",
       "version_major": 2,
       "version_minor": 0
      },
      "text/plain": [
       "FloatProgress(value=0.0, bar_style='info', description='Progress:', layout=Layout(height='25px', width='50%'),…"
      ]
     },
     "metadata": {},
     "output_type": "display_data"
    },
    {
     "name": "stdout",
     "output_type": "stream",
     "text": [
      "+-------------+----------------+\n",
      "|      BOROUGH|Total_Fatalities|\n",
      "+-------------+----------------+\n",
      "|     BROOKLYN|             614|\n",
      "|       QUEENS|             524|\n",
      "|    MANHATTAN|             330|\n",
      "|        BRONX|             274|\n",
      "|STATEN ISLAND|              96|\n",
      "+-------------+----------------+"
     ]
    }
   ],
   "source": [
    "from pyspark.sql import functions as F\n",
    "from pyspark.sql.functions import col\n",
    "\n",
    "# Filter for rows with at least one fatality and non-null location data\n",
    "fatalities_by_location = df.filter(\n",
    "    (col(\"NUMBER OF PERSONS KILLED\") > 0) &\n",
    "    (col(\"LATITUDE\").isNotNull()) &\n",
    "    (col(\"LONGITUDE\").isNotNull())\n",
    ")\n",
    "\n",
    "# Handle null boroughs by grouping them under \"Unknown\"\n",
    "fatalities_by_location = fatalities_by_location.withColumn(\n",
    "    \"BOROUGH\",\n",
    "    F.when(col(\"BOROUGH\").isNotNull(), col(\"BOROUGH\")).otherwise(\"Unknown\")\n",
    ")\n",
    "\n",
    "# Exclude rows where BOROUGH is \"Unknown\"\n",
    "fatalities_by_location = fatalities_by_location.filter(col(\"BOROUGH\") != \"Unknown\")\n",
    "\n",
    "# Group by borough and count fatalities\n",
    "fatalities_by_borough = fatalities_by_location.groupBy(\"BOROUGH\").agg(\n",
    "    F.sum(\"NUMBER OF PERSONS KILLED\").alias(\"Total_Fatalities\")\n",
    ").orderBy(\"Total_Fatalities\", ascending=False)\n",
    "\n",
    "# Show results\n",
    "fatalities_by_borough.show()\n"
   ]
  },
  {
   "cell_type": "markdown",
   "id": "ab0d6e13",
   "metadata": {},
   "source": [
    "Brooklyn experiences the highest number of fatalities with 614, followed by Queens with 524, highlighting significant road safety concerns in these boroughs. Manhattan, with 330 fatalities, also reflects the risks associated with its dense traffic and pedestrian activity. The Bronx reports 274 fatalities, while Staten Island, with 96 fatalities, has the lowest count, likely reflecting its smaller population and lower traffic density."
   ]
  },
  {
   "cell_type": "code",
   "execution_count": 36,
   "id": "8f1a4cbd",
   "metadata": {},
   "outputs": [
    {
     "data": {
      "application/vnd.jupyter.widget-view+json": {
       "model_id": "",
       "version_major": 2,
       "version_minor": 0
      },
      "text/plain": [
       "FloatProgress(value=0.0, bar_style='info', description='Progress:', layout=Layout(height='25px', width='50%'),…"
      ]
     },
     "metadata": {},
     "output_type": "display_data"
    },
    {
     "name": "stdout",
     "output_type": "stream",
     "text": [
      "+----------------+----------------+---------------+\n",
      "|Speeding_Related|Total_Fatalities|Total_Accidents|\n",
      "+----------------+----------------+---------------+\n",
      "|               0|            2815|        2089678|\n",
      "|               1|             434|          36084|\n",
      "+----------------+----------------+---------------+"
     ]
    }
   ],
   "source": [
    "from pyspark.sql import functions as F\n",
    "from pyspark.sql.functions import col\n",
    "\n",
    "# Create a column to identify speeding-related accidents\n",
    "df = df.withColumn(\n",
    "    \"Speeding_Related\",\n",
    "    F.when(\n",
    "        (col(\"CONTRIBUTING FACTOR VEHICLE 1\") == \"Unsafe Speed\") |\n",
    "        (col(\"CONTRIBUTING FACTOR VEHICLE 2\") == \"Unsafe Speed\") |\n",
    "        (col(\"CONTRIBUTING FACTOR VEHICLE 3\") == \"Unsafe Speed\") |\n",
    "        (col(\"CONTRIBUTING FACTOR VEHICLE 4\") == \"Unsafe Speed\") |\n",
    "        (col(\"CONTRIBUTING FACTOR VEHICLE 5\") == \"Unsafe Speed\"),\n",
    "        1\n",
    "    ).otherwise(0)\n",
    ")\n",
    "\n",
    "# Calculate the total number of fatal and non-fatal accidents, split by speeding\n",
    "speeding_fatality_analysis = df.groupBy(\"Speeding_Related\").agg(\n",
    "    F.sum(\"NUMBER OF PERSONS KILLED\").alias(\"Total_Fatalities\"),\n",
    "    F.count(\"COLLISION_ID\").alias(\"Total_Accidents\")\n",
    ").orderBy(\"Total_Fatalities\", ascending=False)\n",
    "\n",
    "# Show results\n",
    "speeding_fatality_analysis.show()\n"
   ]
  },
  {
   "cell_type": "markdown",
   "id": "2a49f891",
   "metadata": {},
   "source": [
    "Accidents involving speeding are associated with a much higher fatality rate (1.2%) compared to non-speeding-related accidents (0.13%).\n",
    "While the total number of speeding-related accidents is significantly lower than non-speeding accidents, the fatality rate suggests a strong correlation between speeding and the likelihood of fatalities."
   ]
  },
  {
   "cell_type": "code",
   "execution_count": 38,
   "id": "9cb9a480",
   "metadata": {},
   "outputs": [
    {
     "data": {
      "application/vnd.jupyter.widget-view+json": {
       "model_id": "",
       "version_major": 2,
       "version_minor": 0
      },
      "text/plain": [
       "FloatProgress(value=0.0, bar_style='info', description='Progress:', layout=Layout(height='25px', width='50%'),…"
      ]
     },
     "metadata": {},
     "output_type": "display_data"
    },
    {
     "name": "stdout",
     "output_type": "stream",
     "text": [
      "+--------------------+------+\n",
      "| CONTRIBUTING_FACTOR| count|\n",
      "+--------------------+------+\n",
      "|Driver Inattentio...|526380|\n",
      "|Failure to Yield ...|144190|\n",
      "|Following Too Clo...|136240|\n",
      "|     Other Vehicular|102450|\n",
      "|    Backing Unsafely| 86318|\n",
      "+--------------------+------+"
     ]
    }
   ],
   "source": [
    "from pyspark.sql.functions import col, desc\n",
    "\n",
    "# Combine all contributing factor columns into a single column for analysis\n",
    "contributing_factors = df.select(\n",
    "    col(\"CONTRIBUTING FACTOR VEHICLE 1\").alias(\"CONTRIBUTING_FACTOR\")\n",
    ").union(\n",
    "    df.select(col(\"CONTRIBUTING FACTOR VEHICLE 2\").alias(\"CONTRIBUTING_FACTOR\"))\n",
    ").union(\n",
    "    df.select(col(\"CONTRIBUTING FACTOR VEHICLE 3\").alias(\"CONTRIBUTING_FACTOR\"))\n",
    ").union(\n",
    "    df.select(col(\"CONTRIBUTING FACTOR VEHICLE 4\").alias(\"CONTRIBUTING_FACTOR\"))\n",
    ").union(\n",
    "    df.select(col(\"CONTRIBUTING FACTOR VEHICLE 5\").alias(\"CONTRIBUTING_FACTOR\"))\n",
    ")\n",
    "\n",
    "# Filter out null, empty, and \"Unspecified\" values\n",
    "contributing_factors = contributing_factors.filter(\n",
    "    (col(\"CONTRIBUTING_FACTOR\").isNotNull()) &\n",
    "    (col(\"CONTRIBUTING_FACTOR\") != \"\") &\n",
    "    (col(\"CONTRIBUTING_FACTOR\") != \"Unspecified\")\n",
    ")\n",
    "\n",
    "# Group by contributing factors and count occurrences\n",
    "top_factors = contributing_factors.groupBy(\"CONTRIBUTING_FACTOR\") \\\n",
    "    .count() \\\n",
    "    .orderBy(desc(\"count\")) \\\n",
    "    .limit(5)\n",
    "\n",
    "# Show the top 5 contributing factors\n",
    "top_factors.show()\n"
   ]
  },
  {
   "cell_type": "markdown",
   "id": "03fac0c9",
   "metadata": {},
   "source": [
    "The leading contributing factor in accidents is Driver Inattention/Distraction, accounting for a staggering 526,380 incidents, highlighting the critical need for improved driver focus and awareness. Failure to Yield Right-of-Way ranks second with 144,190 accidents, often occurring at intersections due to poor judgment or lack of caution. Following Too Closely contributed to 136,240 accidents, emphasizing the importance of maintaining safe distances between vehicles. Other Vehicular Causes, a miscellaneous category, accounted for 102,450 accidents, while Backing Unsafely, often due to improper reversing maneuvers, caused 86,318 accidents. "
   ]
  }
 ],
 "metadata": {
  "kernelspec": {
   "display_name": "PySpark",
   "language": "python",
   "name": "pysparkkernel"
  },
  "language_info": {
   "codemirror_mode": {
    "name": "python",
    "version": 3
   },
   "file_extension": ".py",
   "mimetype": "text/x-python",
   "name": "pyspark",
   "pygments_lexer": "python3"
  }
 },
 "nbformat": 4,
 "nbformat_minor": 5
}
